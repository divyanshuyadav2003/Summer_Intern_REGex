{
 "cells": [
  {
   "cell_type": "code",
   "execution_count": 1,
   "id": "b83077a5",
   "metadata": {},
   "outputs": [
    {
     "name": "stdout",
     "output_type": "stream",
     "text": [
      "Requirement already satisfied: pyautogui in c:\\users\\lenovo\\anaconda3\\lib\\site-packages (0.9.54)\n",
      "Requirement already satisfied: pymsgbox in c:\\users\\lenovo\\anaconda3\\lib\\site-packages (from pyautogui) (1.0.9)\n",
      "Requirement already satisfied: pytweening>=1.0.4 in c:\\users\\lenovo\\anaconda3\\lib\\site-packages (from pyautogui) (1.2.0)\n",
      "Requirement already satisfied: pyscreeze>=0.1.21 in c:\\users\\lenovo\\anaconda3\\lib\\site-packages (from pyautogui) (0.1.30)\n",
      "Requirement already satisfied: pygetwindow>=0.0.5 in c:\\users\\lenovo\\anaconda3\\lib\\site-packages (from pyautogui) (0.0.9)\n",
      "Requirement already satisfied: mouseinfo in c:\\users\\lenovo\\anaconda3\\lib\\site-packages (from pyautogui) (0.1.3)\n",
      "Requirement already satisfied: pyrect in c:\\users\\lenovo\\anaconda3\\lib\\site-packages (from pygetwindow>=0.0.5->pyautogui) (0.2.0)\n",
      "Requirement already satisfied: Pillow>=9.3.0 in c:\\users\\lenovo\\anaconda3\\lib\\site-packages (from pyscreeze>=0.1.21->pyautogui) (9.4.0)\n",
      "Requirement already satisfied: pyperclip in c:\\users\\lenovo\\anaconda3\\lib\\site-packages (from mouseinfo->pyautogui) (1.8.2)\n"
     ]
    }
   ],
   "source": [
    "! pip install pyautogui"
   ]
  },
  {
   "cell_type": "code",
   "execution_count": 5,
   "id": "2d610903",
   "metadata": {},
   "outputs": [
    {
     "name": "stdout",
     "output_type": "stream",
     "text": [
      "Please Enter any file name and PathC:\\\\Users\\\\Lenovo\\\\Documents\\\\Summer internship\\\\Open CV Projects\\\\Images\\\\hello.mp4\n"
     ]
    }
   ],
   "source": [
    "\n",
    "import pyautogui as p\n",
    "import cv2 as c\n",
    "import numpy as np\n",
    "\n",
    "#Create resolution\n",
    "rs = p.size()\n",
    "\n",
    "#filename in which we store recording\n",
    "fn = input(\"Please Enter any file name and Path\")\n",
    "#Fix the frame rate\n",
    "fps = 60.0\n",
    "fourcc = c.VideoWriter_fourcc(*'XVID')\n",
    "output = c.VideoWriter(fn,fourcc,fps,rs)\n",
    "\n",
    "#create recording module\n",
    "c.namedWindow(\"LIve_Recording\",c.WINDOW_NORMAL)\n",
    "\n",
    "#Resize the window\n",
    "c.resizeWindow(\"LIve_Recording\",(600,400))\n",
    "\n",
    "while True:\n",
    "    img = p.screenshot() #image\n",
    "    f = np.array(img) #convert image into array\n",
    "    f = c.cvtColor(f,c.COLOR_BGR2RGB)\n",
    "    output.write(f)\n",
    "    c.imshow(\"LIve_Recording\", f)\n",
    "    if c.waitKey(1) == ord(\"q\"):\n",
    "        break\n",
    "output.release() \n",
    "c.destroyAllWindows()\n",
    " "
   ]
  },
  {
   "cell_type": "code",
   "execution_count": null,
   "id": "c84695fd",
   "metadata": {},
   "outputs": [],
   "source": []
  }
 ],
 "metadata": {
  "kernelspec": {
   "display_name": "Python 3 (ipykernel)",
   "language": "python",
   "name": "python3"
  },
  "language_info": {
   "codemirror_mode": {
    "name": "ipython",
    "version": 3
   },
   "file_extension": ".py",
   "mimetype": "text/x-python",
   "name": "python",
   "nbconvert_exporter": "python",
   "pygments_lexer": "ipython3",
   "version": "3.11.5"
  }
 },
 "nbformat": 4,
 "nbformat_minor": 5
}
