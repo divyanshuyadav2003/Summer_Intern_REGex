{
 "cells": [
  {
   "cell_type": "code",
   "execution_count": 35,
   "id": "484eae6b",
   "metadata": {},
   "outputs": [],
   "source": [
    "#Face Detection using haarcascade file \n",
    "import cv2\n",
    "import numpy\n",
    "face=cv2.CascadeClassifier(\"C:\\\\Users\\\\Lenovo\\\\Documents\\\\Summer internship\\\\Open CV Projects\\\\Images\\\\haarcascade_frontalface_default.xml\") #for detecting face\n",
    "eye = cv2.CascadeClassifier(\"C:\\\\Users\\\\Lenovo\\\\Documents\\\\Summer internship\\\\Open CV Projects\\\\Images\\\\haarcascade_eye.xml\") #for detecting eyes\n",
    "\n",
    "image=cv2.imread(\"C:\\\\Users\\\\Lenovo\\\\Documents\\\\Summer internship\\\\Open CV Projects\\\\Images\\\\new2.jpg\")\n",
    "gray= cv2.cvtColor(image,cv2.COLOR_BGR2GRAY) #convert into gray \n",
    "\n",
    "#parameters(img,scale_factor[reduce image size],min_neighbour)\n",
    "faces = face.detectMultiScale(gray,1.2,2)   #for  faces\n",
    "\n",
    "for(x,y,w,h) in faces:\n",
    "    \n",
    "    image=cv2.rectangle(image,(x,y),(x+w,y+h),(127,0,205),3)\n",
    "    \n",
    "    #Now detect eyes\n",
    "    roi_gray = gray[y:y+h, x:x+w]\n",
    "    roi_color = image[y:y+h, x:x+w]\n",
    "    eyes = eye.detectMultiScale(roi_gray,1.2,1)\n",
    "    for (ex,ey,ew,eh) in eyes:\n",
    "        cv2.rectangle(roi_color,(ex,ey),(ex+ew,ey+eh),(255,0,0),2)\n",
    "    \n",
    "image = cv2.resize(image,(800,700))\n",
    "cv2.imshow(\"Face Detected\",image)\n",
    "cv2.waitKey(0)\n",
    "cv2.destroyAllWindows()    "
   ]
  },
  {
   "cell_type": "code",
   "execution_count": null,
   "id": "dc7efcf4",
   "metadata": {},
   "outputs": [],
   "source": []
  }
 ],
 "metadata": {
  "kernelspec": {
   "display_name": "Python 3 (ipykernel)",
   "language": "python",
   "name": "python3"
  },
  "language_info": {
   "codemirror_mode": {
    "name": "ipython",
    "version": 3
   },
   "file_extension": ".py",
   "mimetype": "text/x-python",
   "name": "python",
   "nbconvert_exporter": "python",
   "pygments_lexer": "ipython3",
   "version": "3.11.5"
  }
 },
 "nbformat": 4,
 "nbformat_minor": 5
}
