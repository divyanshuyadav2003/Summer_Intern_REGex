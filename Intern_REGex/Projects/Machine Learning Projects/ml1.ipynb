{
 "cells": [
  {
   "cell_type": "code",
   "execution_count": 20,
   "id": "9553600a",
   "metadata": {},
   "outputs": [],
   "source": [
    "import cv2\n",
    "# colured\n",
    "img1 = cv2.imread('C:\\\\Users\\\\Lenovo\\\\Documents\\\\Summer internship\\\\Open CV Projects\\\\Images\\\\Nature_HD_pictures.jpg',1)  \n",
    "img1 = cv2.resize(img1,(1280,700))\n",
    "cv2.imshow(\"Colored Image\",img1) \n",
    "\n",
    "# gray scale\n",
    "\n",
    "img2 = cv2.imread('C:\\\\Users\\\\Lenovo\\\\Documents\\\\Summer internship\\\\Open CV Projects\\\\Images\\\\Nature_HD_pictures.jpg',0)\n",
    "img2 = cv2.resize(img2,(1280,700))#width ,height\n",
    "cv2.imshow(\"Gray Scale Image\",img2)\n",
    "# unchanged image\n",
    "img3 = cv2.imread('C:\\\\Users\\\\Lenovo\\\\Documents\\\\Summer internship\\\\Open CV Projects\\\\Images\\\\Nature_HD_pictures.jpg',-1)\n",
    "#-1 increase the saturationof image\n",
    "img3 = cv2.resize(img3,(1280,700))\n",
    "cv2.imshow(\"unchanges Image\",img3)\n",
    "#cv2.startWindowThread()\n",
    "# cv2.waitKey(0) \n",
    "# cv2.destroyAllWindows()\n",
    "\n",
    "k=cv2.waitKey(0)\n",
    "if k==ord('s'):\n",
    "    cv2.imwrite(\"C:\\\\Users\\\\Lenovo\\\\Documents\\\\Summer internship\\\\Open CV Projects\\\\Images\\\\output.jpg\",img2)\n",
    "else:\n",
    "    cv2.destroyAllWindows()\n",
    "    \n",
    "    \n",
    "    "
   ]
  },
  {
   "cell_type": "code",
   "execution_count": null,
   "id": "38461f71",
   "metadata": {},
   "outputs": [],
   "source": []
  },
  {
   "cell_type": "code",
   "execution_count": null,
   "id": "2cb4dc9d",
   "metadata": {},
   "outputs": [],
   "source": []
  }
 ],
 "metadata": {
  "kernelspec": {
   "display_name": "Python 3 (ipykernel)",
   "language": "python",
   "name": "python3"
  },
  "language_info": {
   "codemirror_mode": {
    "name": "ipython",
    "version": 3
   },
   "file_extension": ".py",
   "mimetype": "text/x-python",
   "name": "python",
   "nbconvert_exporter": "python",
   "pygments_lexer": "ipython3",
   "version": "3.11.5"
  }
 },
 "nbformat": 4,
 "nbformat_minor": 5
}
