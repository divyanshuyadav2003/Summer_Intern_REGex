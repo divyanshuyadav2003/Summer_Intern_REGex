{
 "cells": [
  {
   "cell_type": "code",
   "execution_count": 1,
   "id": "f750845f",
   "metadata": {},
   "outputs": [],
   "source": [
    "import numpy as np"
   ]
  },
  {
   "cell_type": "markdown",
   "id": "85c88a54",
   "metadata": {},
   "source": [
    "# 1. Lambda function examples :-"
   ]
  },
  {
   "cell_type": "code",
   "execution_count": 8,
   "id": "9a6a1345",
   "metadata": {},
   "outputs": [
    {
     "data": {
      "text/plain": [
       "25"
      ]
     },
     "execution_count": 8,
     "metadata": {},
     "output_type": "execute_result"
    }
   ],
   "source": [
    "a=lambda x: x*x\n",
    "a(5)"
   ]
  },
  {
   "cell_type": "code",
   "execution_count": 37,
   "id": "e02ce9f0",
   "metadata": {},
   "outputs": [
    {
     "name": "stdout",
     "output_type": "stream",
     "text": [
      "enter the number : 6\n",
      "[6]\n",
      "[6, 6]\n",
      "[6, 6, 6]\n",
      "[6, 6, 6, 6]\n",
      "[6, 6, 6, 6, 6]\n",
      "[6, 6, 6, 6, 6, 6]\n"
     ]
    }
   ],
   "source": [
    "mylist=[]\n",
    "a=int(input(\"enter the number : \"))\n",
    "for i in range(0,a):\n",
    "    lambda a:a+1\n",
    "    mylist.append(a)\n",
    "    print(mylist)"
   ]
  },
  {
   "cell_type": "code",
   "execution_count": 38,
   "id": "3d1c4d03",
   "metadata": {},
   "outputs": [
    {
     "name": "stdout",
     "output_type": "stream",
     "text": [
      "enter the number of index for a : 2\n",
      "enter the elements of list :1\n",
      "enter the elements of list :2\n",
      "enter the number of index for b : 2\n",
      "enter the elements of list :1\n",
      "enter the elements of list :2\n",
      "[1, 2]\n",
      "[1, 2]\n",
      "[2, 4]\n"
     ]
    }
   ],
   "source": [
    "a=[]\n",
    "sizea=int(input(\"enter the number of index for a : \"))\n",
    "for i in range(sizea):\n",
    "    val1=int(input(\"enter the elements of list :\"))\n",
    "    a.append(val1)\n",
    "    \n",
    "b=[]\n",
    "sizeb=int(input(\"enter the number of index for b : \"))\n",
    "for i in range(sizeb):\n",
    "    val2=int(input(\"enter the elements of list :\"))\n",
    "    b.append(val2)\n",
    "    \n",
    "print(a)\n",
    "print(b)\n",
    "result=list(map(lambda x,y:x+y,a,b))\n",
    "print(list(result))\n"
   ]
  },
  {
   "cell_type": "code",
   "execution_count": 39,
   "id": "af19faf4",
   "metadata": {},
   "outputs": [
    {
     "data": {
      "text/plain": [
       "[23]"
      ]
     },
     "execution_count": 39,
     "metadata": {},
     "output_type": "execute_result"
    }
   ],
   "source": [
    "mylist=[2,4,23,32,12,34]\n",
    "list(filter(lambda x:x%2!=0,mylist))"
   ]
  },
  {
   "cell_type": "code",
   "execution_count": 45,
   "id": "54e90ead",
   "metadata": {},
   "outputs": [
    {
     "name": "stdout",
     "output_type": "stream",
     "text": [
      "19\n"
     ]
    }
   ],
   "source": [
    "great = lambda a, b : a if(a > b) else b\n",
    "print(great(19, 15))\n"
   ]
  },
  {
   "cell_type": "markdown",
   "id": "71e679fb",
   "metadata": {},
   "source": [
    "# 2. Filter function example"
   ]
  },
  {
   "cell_type": "code",
   "execution_count": 40,
   "id": "e2bbe414",
   "metadata": {},
   "outputs": [
    {
     "data": {
      "text/plain": [
       "[11, 13, 31]"
      ]
     },
     "execution_count": 40,
     "metadata": {},
     "output_type": "execute_result"
    }
   ],
   "source": [
    "mylist={10,20,30,40,50,11,31,32,13}\n",
    "\n",
    "list(filter(lambda x:x%2!=0 and x%3!=0,mylist))"
   ]
  },
  {
   "cell_type": "code",
   "execution_count": 48,
   "id": "53d446db",
   "metadata": {},
   "outputs": [
    {
     "name": "stdout",
     "output_type": "stream",
     "text": [
      "['vivek', 'rakesh']\n"
     ]
    }
   ],
   "source": [
    "x = [\"raju\", \"vivek\", \"rakesh\"]\n",
    "result = list(filter(lambda i: len(i)>4, x))\n",
    "print(result)"
   ]
  },
  {
   "cell_type": "code",
   "execution_count": 56,
   "id": "20f97ae0",
   "metadata": {},
   "outputs": [
    {
     "name": "stdout",
     "output_type": "stream",
     "text": [
      "['apple', 'elderberry']\n"
     ]
    }
   ],
   "source": [
    "string_list = [\"apple\", \"banana\", \"cherry\", \"date\", \"elderberry\"]\n",
    "vowel_name = list(filter(lambda x: x[0]=='a' or x[0]=='e' or x[0]=='i' or x[0]=='o' or x[0]=='u', string_list))\n",
    "print(vowel_name)"
   ]
  },
  {
   "cell_type": "code",
   "execution_count": 58,
   "id": "85479c78",
   "metadata": {},
   "outputs": [
    {
     "name": "stdout",
     "output_type": "stream",
     "text": [
      "['apple', 'banana', 'cherry', 'date', 'elderberry']\n"
     ]
    }
   ],
   "source": [
    "string_list = [\"apple\", \"banana\", '', \"cherry\", \"date\", '', \"elderberry\"]\n",
    "vowel_name = list(filter(lambda x: x!='', string_list))\n",
    "print(vowel_name)"
   ]
  },
  {
   "cell_type": "code",
   "execution_count": 57,
   "id": "0ddc1d3f",
   "metadata": {},
   "outputs": [
    {
     "name": "stdout",
     "output_type": "stream",
     "text": [
      "18\n",
      "24\n",
      "32\n"
     ]
    }
   ],
   "source": [
    "ages = [5, 12, 17, 18, 24, 32]\n",
    "\n",
    "def myFunc(x):\n",
    "  if x < 18:\n",
    "    return False\n",
    "  else:\n",
    "    return True\n",
    "\n",
    "adults = filter(myFunc, ages)\n",
    "\n",
    "for x in adults:\n",
    "  print(x)"
   ]
  },
  {
   "cell_type": "markdown",
   "id": "1cca5b70",
   "metadata": {},
   "source": [
    "# 3. Map function example"
   ]
  },
  {
   "cell_type": "code",
   "execution_count": 41,
   "id": "d0749a3d",
   "metadata": {},
   "outputs": [
    {
     "name": "stdout",
     "output_type": "stream",
     "text": [
      "False\n"
     ]
    }
   ],
   "source": [
    "parangram = \"hello there nice to meet you how do you do \"\n",
    "\n",
    "def pangram(y):\n",
    "    y = y.lower()\n",
    "    alphabet = \"abcdefghijklmnopqrstuvwxyz\"\n",
    "    return all(map(lambda char: char in y, alphabet))\n",
    "\n",
    "print(pangram(parangram))"
   ]
  },
  {
   "cell_type": "code",
   "execution_count": 42,
   "id": "8255afeb",
   "metadata": {},
   "outputs": [
    {
     "name": "stdout",
     "output_type": "stream",
     "text": [
      "[['s', 'u', 'n', 'd', 'a', 'y'], ['m', 'o', 'n', 'd', 'a', 'y'], ['t', 'u', 'e', 's', 'd', 'a', 'y'], ['f', 'r', 'i', 'd', 'a', 'y']]\n"
     ]
    }
   ],
   "source": [
    "l = ['sunday', 'monday', 'tuesday', 'friday']\n",
    "test = list(map(list, l))\n",
    "print(test)\n"
   ]
  },
  {
   "cell_type": "code",
   "execution_count": 44,
   "id": "5f5e1198",
   "metadata": {},
   "outputs": [
    {
     "name": "stdout",
     "output_type": "stream",
     "text": [
      "[22, 66, 44, 42]\n"
     ]
    }
   ],
   "source": [
    "numbers = (11,33,22,21)\n",
    "result = map(lambda x: x + x, numbers)\n",
    "print(list(result))\n"
   ]
  },
  {
   "cell_type": "code",
   "execution_count": 47,
   "id": "49004eb7",
   "metadata": {},
   "outputs": [
    {
     "name": "stdout",
     "output_type": "stream",
     "text": [
      "enter string1\n",
      "['1', '11', '111']\n"
     ]
    }
   ],
   "source": [
    "x=[1,2,3]\n",
    "enter=input(\"enter string\")\n",
    "result=list(map(lambda i : enter*i,x))\n",
    "print(result)"
   ]
  },
  {
   "cell_type": "code",
   "execution_count": 51,
   "id": "451a2246",
   "metadata": {},
   "outputs": [
    {
     "name": "stdout",
     "output_type": "stream",
     "text": [
      "[25, 49, 9, 961]\n"
     ]
    }
   ],
   "source": [
    "num = [5,7,3,31]\n",
    "new = []\n",
    "for i in num:\n",
    "\n",
    "    new.append(i ** 2)\n",
    "\n",
    "print (new)"
   ]
  },
  {
   "cell_type": "code",
   "execution_count": null,
   "id": "697181b6",
   "metadata": {},
   "outputs": [],
   "source": []
  }
 ],
 "metadata": {
  "kernelspec": {
   "display_name": "Python 3 (ipykernel)",
   "language": "python",
   "name": "python3"
  },
  "language_info": {
   "codemirror_mode": {
    "name": "ipython",
    "version": 3
   },
   "file_extension": ".py",
   "mimetype": "text/x-python",
   "name": "python",
   "nbconvert_exporter": "python",
   "pygments_lexer": "ipython3",
   "version": "3.11.4"
  }
 },
 "nbformat": 4,
 "nbformat_minor": 5
}
