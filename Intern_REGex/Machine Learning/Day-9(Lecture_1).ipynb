{
 "cells": [
  {
   "cell_type": "code",
   "execution_count": 1,
   "id": "76b1bfec",
   "metadata": {},
   "outputs": [],
   "source": [
    "# introduction to numpy:\n",
    "\n",
    "# why numpy is better than list?\n",
    "# 1. same data type ==> array\n",
    "# 2. memory consume ==> numpy less, array high\n",
    "# 3. computation power ==> numpy high,list less\n",
    "# 4. function ==> numpy high , list less"
   ]
  },
  {
   "cell_type": "code",
   "execution_count": 2,
   "id": "7f8815f2",
   "metadata": {},
   "outputs": [],
   "source": [
    "import numpy as np"
   ]
  },
  {
   "cell_type": "code",
   "execution_count": 3,
   "id": "d07e8fd1",
   "metadata": {},
   "outputs": [
    {
     "data": {
      "text/plain": [
       "list"
      ]
     },
     "execution_count": 3,
     "metadata": {},
     "output_type": "execute_result"
    }
   ],
   "source": [
    "a=[1,2,3,4,5]\n",
    "type(a)"
   ]
  },
  {
   "cell_type": "code",
   "execution_count": 4,
   "id": "8a85e382",
   "metadata": {},
   "outputs": [
    {
     "data": {
      "text/plain": [
       "array([1, 2, 3, 4, 5])"
      ]
     },
     "execution_count": 4,
     "metadata": {},
     "output_type": "execute_result"
    }
   ],
   "source": [
    "b=np.array(a)\n",
    "b"
   ]
  },
  {
   "cell_type": "code",
   "execution_count": 5,
   "id": "f5edfd6c",
   "metadata": {},
   "outputs": [
    {
     "data": {
      "text/plain": [
       "numpy.ndarray"
      ]
     },
     "execution_count": 5,
     "metadata": {},
     "output_type": "execute_result"
    }
   ],
   "source": [
    "type(b)"
   ]
  },
  {
   "cell_type": "code",
   "execution_count": 6,
   "id": "fca9097a",
   "metadata": {},
   "outputs": [
    {
     "name": "stdout",
     "output_type": "stream",
     "text": [
      "enter the number of index for a : 4\n",
      "enter the elements of list :1\n",
      "enter the elements of list :2\n",
      "enter the elements of list :3\n",
      "enter the elements of list :4\n"
     ]
    },
    {
     "data": {
      "text/plain": [
       "array([1, 2, 3, 4])"
      ]
     },
     "execution_count": 6,
     "metadata": {},
     "output_type": "execute_result"
    }
   ],
   "source": [
    "a=[]\n",
    "size=int(input(\"enter the number of index for a : \"))\n",
    "for i in range(size):\n",
    "    val=int(input(\"enter the elements of list :\"))\n",
    "    a.append(val)\n",
    "    \n",
    "b=np.array(a)\n",
    "b"
   ]
  },
  {
   "cell_type": "markdown",
   "id": "9a58c912",
   "metadata": {},
   "source": [
    "# how to checkshape and size of an array ?"
   ]
  },
  {
   "cell_type": "code",
   "execution_count": 7,
   "id": "92e814bb",
   "metadata": {},
   "outputs": [],
   "source": [
    "# esc+1 \n",
    "# shift + enter"
   ]
  },
  {
   "cell_type": "code",
   "execution_count": 8,
   "id": "01af3ef6",
   "metadata": {},
   "outputs": [],
   "source": [
    "# shape =n(rows) , n(columns)\n",
    "# size=total_elements ==> n(rows)*n(columns)"
   ]
  },
  {
   "cell_type": "code",
   "execution_count": 10,
   "id": "753d6f1c",
   "metadata": {},
   "outputs": [
    {
     "name": "stdout",
     "output_type": "stream",
     "text": [
      "total shape  (4,)\n",
      "total size  4\n"
     ]
    }
   ],
   "source": [
    "print(\"total shape \",b.shape)\n",
    "print(\"total size \",b.size)"
   ]
  },
  {
   "cell_type": "code",
   "execution_count": 12,
   "id": "4236ad11",
   "metadata": {},
   "outputs": [
    {
     "data": {
      "text/plain": [
       "array([[1, 2, 3],\n",
       "       [4, 5, 6],\n",
       "       [7, 8, 9]])"
      ]
     },
     "execution_count": 12,
     "metadata": {},
     "output_type": "execute_result"
    }
   ],
   "source": [
    "a=[[1,2,3],[4,5,6],[7,8,9]]\n",
    "b=np.array(a)\n",
    "b"
   ]
  },
  {
   "cell_type": "code",
   "execution_count": 13,
   "id": "8acaa76b",
   "metadata": {},
   "outputs": [
    {
     "name": "stdout",
     "output_type": "stream",
     "text": [
      "total shape  (3, 3)\n",
      "total size  9\n"
     ]
    }
   ],
   "source": [
    "print(\"total shape \",b.shape)\n",
    "print(\"total size \",b.size)"
   ]
  },
  {
   "cell_type": "code",
   "execution_count": 14,
   "id": "235a2d84",
   "metadata": {},
   "outputs": [],
   "source": [
    "# image ==> pixels ==> (0,255)px ==> 0px(complete black) ,255px(complete white)\n",
    "\n",
    "# convert ==> grayscale image ==>\n",
    "# image(pixels) ==> normalization(0,1)==>0px black,1px white\n",
    "\n",
    "# 0,1 ==? neoron system\n",
    "\n",
    "# matrix ==> rows,columns ==>\n",
    "# symmatric matrix ==> n(rows)==n(columns)\n",
    "# asymmatric matrix ==> n(rows)!=n(columns)\n",
    "# diagonal elements =[(1,1),(2,2),(3,3)....(n,n)]"
   ]
  },
  {
   "cell_type": "markdown",
   "id": "48328f8a",
   "metadata": {},
   "source": [
    "# 1. zeros() ==> it will create an array in which all elements are zero"
   ]
  },
  {
   "cell_type": "code",
   "execution_count": 15,
   "id": "53809341",
   "metadata": {},
   "outputs": [
    {
     "data": {
      "text/plain": [
       "array([0., 0., 0., 0.])"
      ]
     },
     "execution_count": 15,
     "metadata": {},
     "output_type": "execute_result"
    }
   ],
   "source": [
    "a=np.zeros(4)\n",
    "a"
   ]
  },
  {
   "cell_type": "code",
   "execution_count": 16,
   "id": "7cd2f7b8",
   "metadata": {},
   "outputs": [
    {
     "data": {
      "text/plain": [
       "array([[0., 0., 0., 0.],\n",
       "       [0., 0., 0., 0.],\n",
       "       [0., 0., 0., 0.]])"
      ]
     },
     "execution_count": 16,
     "metadata": {},
     "output_type": "execute_result"
    }
   ],
   "source": [
    "a=np.zeros((3,4))\n",
    "a"
   ]
  },
  {
   "cell_type": "markdown",
   "id": "c6446e8e",
   "metadata": {},
   "source": [
    "# 2. once() ==> it will create an array in which all elements are one"
   ]
  },
  {
   "cell_type": "code",
   "execution_count": 18,
   "id": "77683f56",
   "metadata": {},
   "outputs": [
    {
     "data": {
      "text/plain": [
       "array([1., 1., 1.])"
      ]
     },
     "execution_count": 18,
     "metadata": {},
     "output_type": "execute_result"
    }
   ],
   "source": [
    "a=np.ones(3)\n",
    "a"
   ]
  },
  {
   "cell_type": "code",
   "execution_count": 19,
   "id": "7959ba21",
   "metadata": {},
   "outputs": [
    {
     "data": {
      "text/plain": [
       "array([[1., 1., 1.],\n",
       "       [1., 1., 1.]])"
      ]
     },
     "execution_count": 19,
     "metadata": {},
     "output_type": "execute_result"
    }
   ],
   "source": [
    "b=np.ones((2,3))\n",
    "b"
   ]
  },
  {
   "cell_type": "markdown",
   "id": "61bcedde",
   "metadata": {},
   "source": [
    "# 3. eye() ==> it will create an array in which diagonal elements are one "
   ]
  },
  {
   "cell_type": "code",
   "execution_count": 20,
   "id": "59a5f962",
   "metadata": {},
   "outputs": [
    {
     "data": {
      "text/plain": [
       "array([[1., 0., 0., 0.],\n",
       "       [0., 1., 0., 0.],\n",
       "       [0., 0., 1., 0.]])"
      ]
     },
     "execution_count": 20,
     "metadata": {},
     "output_type": "execute_result"
    }
   ],
   "source": [
    "a=np.eye(3,4)##asymmatric matix\n",
    "a"
   ]
  },
  {
   "cell_type": "code",
   "execution_count": 21,
   "id": "f0c5e999",
   "metadata": {},
   "outputs": [
    {
     "data": {
      "text/plain": [
       "array([[1., 0., 0., 0.],\n",
       "       [0., 1., 0., 0.],\n",
       "       [0., 0., 1., 0.],\n",
       "       [0., 0., 0., 1.]])"
      ]
     },
     "execution_count": 21,
     "metadata": {},
     "output_type": "execute_result"
    }
   ],
   "source": [
    "a=np.eye(4)##symmatric matix\n",
    "a"
   ]
  },
  {
   "cell_type": "code",
   "execution_count": null,
   "id": "1ec0d891",
   "metadata": {},
   "outputs": [],
   "source": []
  }
 ],
 "metadata": {
  "kernelspec": {
   "display_name": "Python 3 (ipykernel)",
   "language": "python",
   "name": "python3"
  },
  "language_info": {
   "codemirror_mode": {
    "name": "ipython",
    "version": 3
   },
   "file_extension": ".py",
   "mimetype": "text/x-python",
   "name": "python",
   "nbconvert_exporter": "python",
   "pygments_lexer": "ipython3",
   "version": "3.11.4"
  }
 },
 "nbformat": 4,
 "nbformat_minor": 5
}
