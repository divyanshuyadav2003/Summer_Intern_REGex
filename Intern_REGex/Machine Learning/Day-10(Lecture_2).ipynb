{
 "cells": [
  {
   "cell_type": "markdown",
   "id": "db1fa7b9",
   "metadata": {},
   "source": [
    "# 4. diag ==> this function createsa two dimensional array with all the diagonal element as the given value and rest are zero"
   ]
  },
  {
   "cell_type": "code",
   "execution_count": 1,
   "id": "a43746e3",
   "metadata": {},
   "outputs": [
    {
     "data": {
      "text/plain": [
       "array([[1, 0, 0, 0],\n",
       "       [0, 4, 0, 0],\n",
       "       [0, 0, 8, 0],\n",
       "       [0, 0, 0, 9]])"
      ]
     },
     "execution_count": 1,
     "metadata": {},
     "output_type": "execute_result"
    }
   ],
   "source": [
    "import numpy as np\n",
    "a=np.diag([1,4,8,9])\n",
    "a"
   ]
  },
  {
   "cell_type": "markdown",
   "id": "9d090a13",
   "metadata": {},
   "source": [
    "# 5. randint ==> this func is use to generate a random number b/w a given range\n",
    "\n",
    "syntax : randint(min_value,max_value,total_no)"
   ]
  },
  {
   "cell_type": "code",
   "execution_count": 1,
   "id": "7a5fdd69",
   "metadata": {},
   "outputs": [
    {
     "data": {
      "text/plain": [
       "array([1, 5, 4])"
      ]
     },
     "execution_count": 1,
     "metadata": {},
     "output_type": "execute_result"
    }
   ],
   "source": [
    "import numpy as np\n",
    "a=np.random.randint(1,10,3)\n",
    "a"
   ]
  },
  {
   "cell_type": "markdown",
   "id": "eb957ca4",
   "metadata": {},
   "source": [
    "# 6. rand()==> func use to generate a random no b/w 0 to 1\n",
    "syntax==rand(no of value)"
   ]
  },
  {
   "cell_type": "code",
   "execution_count": 4,
   "id": "2ce6a154",
   "metadata": {},
   "outputs": [
    {
     "data": {
      "text/plain": [
       "array([0.94542951, 0.66175375, 0.224512  ])"
      ]
     },
     "execution_count": 4,
     "metadata": {},
     "output_type": "execute_result"
    }
   ],
   "source": [
    "import numpy as np\n",
    "a=np.random.rand(3)\n",
    "a"
   ]
  },
  {
   "cell_type": "markdown",
   "id": "b29c6a8f",
   "metadata": {},
   "source": [
    "# 7.randn()==> func use to generate a random no from -3 to close 3 it may return posittive or negatiev "
   ]
  },
  {
   "cell_type": "code",
   "execution_count": null,
   "id": "b16222a3",
   "metadata": {},
   "outputs": [],
   "source": []
  },
  {
   "cell_type": "markdown",
   "id": "1a6da76a",
   "metadata": {},
   "source": [
    "# reshapinng data"
   ]
  },
  {
   "cell_type": "code",
   "execution_count": 5,
   "id": "88dbd026",
   "metadata": {},
   "outputs": [
    {
     "data": {
      "text/plain": [
       "array([44, 47, 25, 39,  2,  4, 37, 11, 28, 25, 45, 28])"
      ]
     },
     "execution_count": 5,
     "metadata": {},
     "output_type": "execute_result"
    }
   ],
   "source": [
    "import numpy as np\n",
    "a=np.random.randint(1,50,12)\n",
    "a"
   ]
  },
  {
   "cell_type": "code",
   "execution_count": 6,
   "id": "6460220b",
   "metadata": {},
   "outputs": [],
   "source": [
    "# n(r)*n(c)=n(total_element)"
   ]
  },
  {
   "cell_type": "code",
   "execution_count": 7,
   "id": "8ce2d718",
   "metadata": {},
   "outputs": [
    {
     "data": {
      "text/plain": [
       "(12,)"
      ]
     },
     "execution_count": 7,
     "metadata": {},
     "output_type": "execute_result"
    }
   ],
   "source": [
    "a.shape"
   ]
  },
  {
   "cell_type": "code",
   "execution_count": 8,
   "id": "f13059c7",
   "metadata": {},
   "outputs": [
    {
     "data": {
      "text/plain": [
       "array([[44, 47, 25, 39,  2,  4],\n",
       "       [37, 11, 28, 25, 45, 28]])"
      ]
     },
     "execution_count": 8,
     "metadata": {},
     "output_type": "execute_result"
    }
   ],
   "source": [
    "a=a.reshape(2,6)\n",
    "a"
   ]
  },
  {
   "cell_type": "code",
   "execution_count": 9,
   "id": "0f97f7c2",
   "metadata": {},
   "outputs": [
    {
     "data": {
      "text/plain": [
       "array([[44, 47, 25, 39],\n",
       "       [ 2,  4, 37, 11],\n",
       "       [28, 25, 45, 28]])"
      ]
     },
     "execution_count": 9,
     "metadata": {},
     "output_type": "execute_result"
    }
   ],
   "source": [
    "a=a.reshape(3,4)\n",
    "a"
   ]
  },
  {
   "cell_type": "code",
   "execution_count": 10,
   "id": "bae5adfd",
   "metadata": {},
   "outputs": [
    {
     "data": {
      "text/plain": [
       "array([[44, 47],\n",
       "       [25, 39],\n",
       "       [ 2,  4],\n",
       "       [37, 11],\n",
       "       [28, 25],\n",
       "       [45, 28]])"
      ]
     },
     "execution_count": 10,
     "metadata": {},
     "output_type": "execute_result"
    }
   ],
   "source": [
    "a=a.reshape(6,2)\n",
    "a"
   ]
  },
  {
   "cell_type": "code",
   "execution_count": 11,
   "id": "e93d2783",
   "metadata": {},
   "outputs": [
    {
     "data": {
      "text/plain": [
       "array([[44],\n",
       "       [47],\n",
       "       [25],\n",
       "       [39],\n",
       "       [ 2],\n",
       "       [ 4],\n",
       "       [37],\n",
       "       [11],\n",
       "       [28],\n",
       "       [25],\n",
       "       [45],\n",
       "       [28]])"
      ]
     },
     "execution_count": 11,
     "metadata": {},
     "output_type": "execute_result"
    }
   ],
   "source": [
    "a=a.reshape(12,1)\n",
    "a"
   ]
  },
  {
   "cell_type": "code",
   "execution_count": 12,
   "id": "5f036d5c",
   "metadata": {},
   "outputs": [
    {
     "data": {
      "text/plain": [
       "array([15, 88, 41, 58, 99, 11, 28, 78, 66, 39, 56, 86, 62, 93,  9, 28, 41,\n",
       "       38, 94, 68, 21, 60, 40, 32, 10,  8, 93, 42, 55,  1, 42, 52, 25, 64,\n",
       "       92,  3, 99, 84, 38, 10, 76, 76, 12,  2, 90, 99, 82, 80, 61, 18, 35,\n",
       "       86, 58, 45, 40, 74, 35, 97, 88, 16, 53, 20, 78, 33])"
      ]
     },
     "execution_count": 12,
     "metadata": {},
     "output_type": "execute_result"
    }
   ],
   "source": [
    "import numpy as np\n",
    "a=np.random.randint(1,100,64)\n",
    "a"
   ]
  },
  {
   "cell_type": "code",
   "execution_count": 15,
   "id": "f5561549",
   "metadata": {},
   "outputs": [
    {
     "data": {
      "text/plain": [
       "array([15, 88, 41, 58, 99, 11, 28, 78, 66, 39, 56, 86, 62, 93,  9, 28, 41,\n",
       "       38, 94, 68, 21, 60, 40, 32, 10,  8, 93, 42, 55,  1, 42, 52, 25, 64,\n",
       "       92,  3, 99, 84, 38, 10, 76, 76, 12,  2, 90, 99, 82, 80, 61, 18, 35,\n",
       "       86, 58, 45, 40, 74, 35, 97, 88, 16, 53, 20, 78, 33])"
      ]
     },
     "execution_count": 15,
     "metadata": {},
     "output_type": "execute_result"
    }
   ],
   "source": [
    "a.reshape(1,64)\n",
    "a"
   ]
  },
  {
   "cell_type": "code",
   "execution_count": 16,
   "id": "817051a2",
   "metadata": {},
   "outputs": [
    {
     "data": {
      "text/plain": [
       "array([15, 88, 41, 58, 99, 11, 28, 78, 66, 39, 56, 86, 62, 93,  9, 28, 41,\n",
       "       38, 94, 68, 21, 60, 40, 32, 10,  8, 93, 42, 55,  1, 42, 52, 25, 64,\n",
       "       92,  3, 99, 84, 38, 10, 76, 76, 12,  2, 90, 99, 82, 80, 61, 18, 35,\n",
       "       86, 58, 45, 40, 74, 35, 97, 88, 16, 53, 20, 78, 33])"
      ]
     },
     "execution_count": 16,
     "metadata": {},
     "output_type": "execute_result"
    }
   ],
   "source": [
    "a.reshape(2,32)\n",
    "a"
   ]
  },
  {
   "cell_type": "code",
   "execution_count": 17,
   "id": "3c14e1b8",
   "metadata": {},
   "outputs": [
    {
     "data": {
      "text/plain": [
       "array([15, 88, 41, 58, 99, 11, 28, 78, 66, 39, 56, 86, 62, 93,  9, 28, 41,\n",
       "       38, 94, 68, 21, 60, 40, 32, 10,  8, 93, 42, 55,  1, 42, 52, 25, 64,\n",
       "       92,  3, 99, 84, 38, 10, 76, 76, 12,  2, 90, 99, 82, 80, 61, 18, 35,\n",
       "       86, 58, 45, 40, 74, 35, 97, 88, 16, 53, 20, 78, 33])"
      ]
     },
     "execution_count": 17,
     "metadata": {},
     "output_type": "execute_result"
    }
   ],
   "source": [
    "a.reshape(64,1)\n",
    "a"
   ]
  },
  {
   "cell_type": "code",
   "execution_count": 18,
   "id": "41f3e612",
   "metadata": {},
   "outputs": [
    {
     "data": {
      "text/plain": [
       "array([15, 88, 41, 58, 99, 11, 28, 78, 66, 39, 56, 86, 62, 93,  9, 28, 41,\n",
       "       38, 94, 68, 21, 60, 40, 32, 10,  8, 93, 42, 55,  1, 42, 52, 25, 64,\n",
       "       92,  3, 99, 84, 38, 10, 76, 76, 12,  2, 90, 99, 82, 80, 61, 18, 35,\n",
       "       86, 58, 45, 40, 74, 35, 97, 88, 16, 53, 20, 78, 33])"
      ]
     },
     "execution_count": 18,
     "metadata": {},
     "output_type": "execute_result"
    }
   ],
   "source": [
    "a.reshape(32,2)\n",
    "a"
   ]
  },
  {
   "cell_type": "code",
   "execution_count": 20,
   "id": "4d1a24c3",
   "metadata": {},
   "outputs": [
    {
     "data": {
      "text/plain": [
       "array([15, 88, 41, 58, 99, 11, 28, 78, 66, 39, 56, 86, 62, 93,  9, 28, 41,\n",
       "       38, 94, 68, 21, 60, 40, 32, 10,  8, 93, 42, 55,  1, 42, 52, 25, 64,\n",
       "       92,  3, 99, 84, 38, 10, 76, 76, 12,  2, 90, 99, 82, 80, 61, 18, 35,\n",
       "       86, 58, 45, 40, 74, 35, 97, 88, 16, 53, 20, 78, 33])"
      ]
     },
     "execution_count": 20,
     "metadata": {},
     "output_type": "execute_result"
    }
   ],
   "source": [
    "a.reshape(4,16)\n",
    "a"
   ]
  },
  {
   "cell_type": "code",
   "execution_count": 21,
   "id": "e7306f08",
   "metadata": {},
   "outputs": [
    {
     "data": {
      "text/plain": [
       "array([15, 88, 41, 58, 99, 11, 28, 78, 66, 39, 56, 86, 62, 93,  9, 28, 41,\n",
       "       38, 94, 68, 21, 60, 40, 32, 10,  8, 93, 42, 55,  1, 42, 52, 25, 64,\n",
       "       92,  3, 99, 84, 38, 10, 76, 76, 12,  2, 90, 99, 82, 80, 61, 18, 35,\n",
       "       86, 58, 45, 40, 74, 35, 97, 88, 16, 53, 20, 78, 33])"
      ]
     },
     "execution_count": 21,
     "metadata": {},
     "output_type": "execute_result"
    }
   ],
   "source": [
    "a.reshape(8,8)\n",
    "a"
   ]
  },
  {
   "cell_type": "code",
   "execution_count": 23,
   "id": "4652152b",
   "metadata": {},
   "outputs": [
    {
     "data": {
      "text/plain": [
       "array([15, 88, 41, 58, 99, 11, 28, 78, 66, 39, 56, 86, 62, 93,  9, 28, 41,\n",
       "       38, 94, 68, 21, 60, 40, 32, 10,  8, 93, 42, 55,  1, 42, 52, 25, 64,\n",
       "       92,  3, 99, 84, 38, 10, 76, 76, 12,  2, 90, 99, 82, 80, 61, 18, 35,\n",
       "       86, 58, 45, 40, 74, 35, 97, 88, 16, 53, 20, 78, 33])"
      ]
     },
     "execution_count": 23,
     "metadata": {},
     "output_type": "execute_result"
    }
   ],
   "source": [
    "a.reshape(16,4)\n",
    "a"
   ]
  },
  {
   "cell_type": "markdown",
   "id": "0a0ddd40",
   "metadata": {},
   "source": [
    "# principal  of -1"
   ]
  },
  {
   "cell_type": "code",
   "execution_count": 24,
   "id": "324738cf",
   "metadata": {},
   "outputs": [
    {
     "data": {
      "text/plain": [
       "array([[15, 88, 41, 58],\n",
       "       [99, 11, 28, 78],\n",
       "       [66, 39, 56, 86],\n",
       "       [62, 93,  9, 28],\n",
       "       [41, 38, 94, 68],\n",
       "       [21, 60, 40, 32],\n",
       "       [10,  8, 93, 42],\n",
       "       [55,  1, 42, 52],\n",
       "       [25, 64, 92,  3],\n",
       "       [99, 84, 38, 10],\n",
       "       [76, 76, 12,  2],\n",
       "       [90, 99, 82, 80],\n",
       "       [61, 18, 35, 86],\n",
       "       [58, 45, 40, 74],\n",
       "       [35, 97, 88, 16],\n",
       "       [53, 20, 78, 33]])"
      ]
     },
     "execution_count": 24,
     "metadata": {},
     "output_type": "execute_result"
    }
   ],
   "source": [
    "a=a.reshape(-1,4)\n",
    "a"
   ]
  },
  {
   "cell_type": "markdown",
   "id": "a1b55007",
   "metadata": {},
   "source": [
    "# seed func() ==> we know that randint func generates random no. everytime we run the program ,new set of random no is generated\n",
    ",so solve this problem we use seed func  "
   ]
  },
  {
   "cell_type": "code",
   "execution_count": 33,
   "id": "f4fce4ab",
   "metadata": {},
   "outputs": [
    {
     "data": {
      "text/plain": [
       "array([48, 69, 26, 68, 84, 24, 93, 58, 15, 24])"
      ]
     },
     "execution_count": 33,
     "metadata": {},
     "output_type": "execute_result"
    }
   ],
   "source": [
    "import numpy as np\n",
    "np.random.seed(7)\n",
    "a=np.random.randint(1,100,10)\n",
    "a"
   ]
  },
  {
   "cell_type": "markdown",
   "id": "752c4e87",
   "metadata": {},
   "source": [
    "# view vs copy ==> when we slice a sub array from an array,it may be done by two ways"
   ]
  },
  {
   "cell_type": "code",
   "execution_count": 34,
   "id": "389bb97e",
   "metadata": {},
   "outputs": [
    {
     "data": {
      "text/plain": [
       "array([1, 2, 3, 0, 0, 0, 7, 8])"
      ]
     },
     "execution_count": 34,
     "metadata": {},
     "output_type": "execute_result"
    }
   ],
   "source": [
    "# view\n",
    "import numpy as np\n",
    "a=np.array([1,2,3,4,5,6,7,8])\n",
    "b=a[3:6]\n",
    "b[:]=0\n",
    "a"
   ]
  },
  {
   "cell_type": "code",
   "execution_count": 36,
   "id": "1388af64",
   "metadata": {},
   "outputs": [
    {
     "data": {
      "text/plain": [
       "array([1, 2, 3, 4, 5, 6, 7, 8])"
      ]
     },
     "execution_count": 36,
     "metadata": {},
     "output_type": "execute_result"
    }
   ],
   "source": [
    "# copy\n",
    "a=np.array([1,2,3,4,5,6,7,8])\n",
    "b=a[3:6].copy()\n",
    "b[:]=0\n",
    "a"
   ]
  },
  {
   "cell_type": "markdown",
   "id": "fc730dae",
   "metadata": {},
   "source": [
    "# conditional statement"
   ]
  },
  {
   "cell_type": "code",
   "execution_count": 38,
   "id": "66b7e279",
   "metadata": {},
   "outputs": [
    {
     "data": {
      "text/plain": [
       "array([ 1,  2,  3,  4,  5,  6,  7,  8,  9, 10, 11, 12, 13, 14, 15])"
      ]
     },
     "execution_count": 38,
     "metadata": {},
     "output_type": "execute_result"
    }
   ],
   "source": [
    "import numpy as np\n",
    "a=np.arange(1,16)\n",
    "a"
   ]
  },
  {
   "cell_type": "code",
   "execution_count": 39,
   "id": "1ccb4b1b",
   "metadata": {},
   "outputs": [
    {
     "data": {
      "text/plain": [
       "array([False, False, False, False, False, False, False, False, False,\n",
       "       False,  True,  True,  True,  True,  True])"
      ]
     },
     "execution_count": 39,
     "metadata": {},
     "output_type": "execute_result"
    }
   ],
   "source": [
    "a>10"
   ]
  },
  {
   "cell_type": "code",
   "execution_count": 40,
   "id": "2da4b8cc",
   "metadata": {},
   "outputs": [
    {
     "data": {
      "text/plain": [
       "array([ True,  True,  True,  True,  True,  True,  True,  True,  True,\n",
       "       False, False, False, False, False, False])"
      ]
     },
     "execution_count": 40,
     "metadata": {},
     "output_type": "execute_result"
    }
   ],
   "source": [
    "a<10"
   ]
  },
  {
   "cell_type": "code",
   "execution_count": 41,
   "id": "c20897f4",
   "metadata": {},
   "outputs": [
    {
     "data": {
      "text/plain": [
       "array([11, 12, 13, 14, 15])"
      ]
     },
     "execution_count": 41,
     "metadata": {},
     "output_type": "execute_result"
    }
   ],
   "source": [
    "b=a>10\n",
    "a[b]"
   ]
  },
  {
   "cell_type": "code",
   "execution_count": 42,
   "id": "26ade019",
   "metadata": {},
   "outputs": [
    {
     "data": {
      "text/plain": [
       "array([ 2,  4,  6,  8, 10, 12, 14])"
      ]
     },
     "execution_count": 42,
     "metadata": {},
     "output_type": "execute_result"
    }
   ],
   "source": [
    "a[a%2==0]"
   ]
  },
  {
   "cell_type": "markdown",
   "id": "dd9e1414",
   "metadata": {},
   "source": [
    "# operation on array"
   ]
  },
  {
   "cell_type": "code",
   "execution_count": 44,
   "id": "ef3a0e59",
   "metadata": {},
   "outputs": [
    {
     "data": {
      "text/plain": [
       "array([2, 4, 6, 8])"
      ]
     },
     "execution_count": 44,
     "metadata": {},
     "output_type": "execute_result"
    }
   ],
   "source": [
    "import numpy as np\n",
    "a=np.arange(1,5)\n",
    "a*2"
   ]
  },
  {
   "cell_type": "code",
   "execution_count": 45,
   "id": "eaf205e1",
   "metadata": {},
   "outputs": [
    {
     "data": {
      "text/plain": [
       "array([3, 4, 5, 6])"
      ]
     },
     "execution_count": 45,
     "metadata": {},
     "output_type": "execute_result"
    }
   ],
   "source": [
    "a+2"
   ]
  },
  {
   "cell_type": "code",
   "execution_count": 46,
   "id": "9d147c5c",
   "metadata": {},
   "outputs": [
    {
     "data": {
      "text/plain": [
       "array([ 1,  4,  9, 16])"
      ]
     },
     "execution_count": 46,
     "metadata": {},
     "output_type": "execute_result"
    }
   ],
   "source": [
    "a**2"
   ]
  },
  {
   "cell_type": "code",
   "execution_count": 48,
   "id": "f0a13d54",
   "metadata": {},
   "outputs": [
    {
     "data": {
      "text/plain": [
       "array([[1, 2],\n",
       "       [3, 4]])"
      ]
     },
     "execution_count": 48,
     "metadata": {},
     "output_type": "execute_result"
    }
   ],
   "source": [
    "a=np.array([1,2,3,4]).reshape([2,2])\n",
    "a"
   ]
  },
  {
   "cell_type": "code",
   "execution_count": 52,
   "id": "d5e2003a",
   "metadata": {},
   "outputs": [
    {
     "data": {
      "text/plain": [
       "array([[5, 6],\n",
       "       [7, 8]])"
      ]
     },
     "execution_count": 52,
     "metadata": {},
     "output_type": "execute_result"
    }
   ],
   "source": [
    "b=np.array([5,6,7,8]).reshape([2,2])\n",
    "b"
   ]
  },
  {
   "cell_type": "code",
   "execution_count": 53,
   "id": "018a92c3",
   "metadata": {},
   "outputs": [
    {
     "data": {
      "text/plain": [
       "array([[10, 12],\n",
       "       [14, 16]])"
      ]
     },
     "execution_count": 53,
     "metadata": {},
     "output_type": "execute_result"
    }
   ],
   "source": [
    "a+b"
   ]
  },
  {
   "cell_type": "code",
   "execution_count": 54,
   "id": "bf131a1c",
   "metadata": {},
   "outputs": [
    {
     "data": {
      "text/plain": [
       "array([[0, 0],\n",
       "       [0, 0]])"
      ]
     },
     "execution_count": 54,
     "metadata": {},
     "output_type": "execute_result"
    }
   ],
   "source": [
    "a-b"
   ]
  },
  {
   "cell_type": "code",
   "execution_count": 55,
   "id": "9ecf5758",
   "metadata": {},
   "outputs": [
    {
     "data": {
      "text/plain": [
       "array([[1., 1.],\n",
       "       [1., 1.]])"
      ]
     },
     "execution_count": 55,
     "metadata": {},
     "output_type": "execute_result"
    }
   ],
   "source": [
    "a/b"
   ]
  },
  {
   "cell_type": "code",
   "execution_count": 56,
   "id": "cfcff695",
   "metadata": {},
   "outputs": [
    {
     "data": {
      "text/plain": [
       "array([[25, 36],\n",
       "       [49, 64]])"
      ]
     },
     "execution_count": 56,
     "metadata": {},
     "output_type": "execute_result"
    }
   ],
   "source": [
    "a*b #simple mult."
   ]
  },
  {
   "cell_type": "code",
   "execution_count": 57,
   "id": "3d55c047",
   "metadata": {},
   "outputs": [
    {
     "data": {
      "text/plain": [
       "array([[ 67,  78],\n",
       "       [ 91, 106]])"
      ]
     },
     "execution_count": 57,
     "metadata": {},
     "output_type": "execute_result"
    }
   ],
   "source": [
    "a.dot(b) #matrix multiplication"
   ]
  },
  {
   "cell_type": "code",
   "execution_count": 58,
   "id": "26d3ee79",
   "metadata": {},
   "outputs": [
    {
     "data": {
      "text/plain": [
       "10"
      ]
     },
     "execution_count": 58,
     "metadata": {},
     "output_type": "execute_result"
    }
   ],
   "source": [
    "import numpy as np\n",
    "a=np.array([10,20,30,40,50])\n",
    "np.min(a)"
   ]
  },
  {
   "cell_type": "code",
   "execution_count": 59,
   "id": "f3b081b2",
   "metadata": {},
   "outputs": [
    {
     "data": {
      "text/plain": [
       "50"
      ]
     },
     "execution_count": 59,
     "metadata": {},
     "output_type": "execute_result"
    }
   ],
   "source": [
    "np.max(a)"
   ]
  },
  {
   "cell_type": "code",
   "execution_count": 61,
   "id": "bfdd30f8",
   "metadata": {},
   "outputs": [
    {
     "data": {
      "text/plain": [
       "0"
      ]
     },
     "execution_count": 61,
     "metadata": {},
     "output_type": "execute_result"
    }
   ],
   "source": [
    "np.argmin(a)#return indexing of min value"
   ]
  },
  {
   "cell_type": "code",
   "execution_count": 62,
   "id": "8bdaffc2",
   "metadata": {},
   "outputs": [
    {
     "data": {
      "text/plain": [
       "4"
      ]
     },
     "execution_count": 62,
     "metadata": {},
     "output_type": "execute_result"
    }
   ],
   "source": [
    "np.argmax(a)#return indexing of max value"
   ]
  },
  {
   "cell_type": "code",
   "execution_count": 65,
   "id": "7d2b8e67",
   "metadata": {},
   "outputs": [
    {
     "data": {
      "text/plain": [
       "array([3.16227766, 4.47213595, 5.47722558, 6.32455532, 7.07106781])"
      ]
     },
     "execution_count": 65,
     "metadata": {},
     "output_type": "execute_result"
    }
   ],
   "source": [
    "np.sqrt(a)"
   ]
  },
  {
   "cell_type": "code",
   "execution_count": 64,
   "id": "009ab547",
   "metadata": {},
   "outputs": [
    {
     "data": {
      "text/plain": [
       "array([-0.54402111,  0.91294525, -0.98803162,  0.74511316, -0.26237485])"
      ]
     },
     "execution_count": 64,
     "metadata": {},
     "output_type": "execute_result"
    }
   ],
   "source": [
    "np.sin(a)"
   ]
  },
  {
   "cell_type": "markdown",
   "id": "606600bd",
   "metadata": {},
   "source": [
    "# linspace()==> return value b/w given range and with same gap b/w consicutive elements"
   ]
  },
  {
   "cell_type": "code",
   "execution_count": 2,
   "id": "c4a47ea3",
   "metadata": {},
   "outputs": [
    {
     "data": {
      "text/plain": [
       "array([1.  , 1.25, 1.5 , 1.75, 2.  ])"
      ]
     },
     "execution_count": 2,
     "metadata": {},
     "output_type": "execute_result"
    }
   ],
   "source": [
    "import numpy as np\n",
    "a=np.linspace(1,2,5)\n",
    "a"
   ]
  },
  {
   "cell_type": "markdown",
   "id": "0c688b28",
   "metadata": {},
   "source": [
    "# np.umique(arr,return_index=true,return_count=true)\n",
    "return 3 array 1. arr with unique value,2. arr with respective index value,3. arr with couning of frequency"
   ]
  },
  {
   "cell_type": "code",
   "execution_count": 68,
   "id": "1dd05564",
   "metadata": {},
   "outputs": [
    {
     "data": {
      "text/plain": [
       "(array([10, 20, 30, 40, 50]),\n",
       " array([0, 1, 2, 3, 5], dtype=int64),\n",
       " array([1, 2, 1, 1, 1], dtype=int64))"
      ]
     },
     "execution_count": 68,
     "metadata": {},
     "output_type": "execute_result"
    }
   ],
   "source": [
    "a=np.array([10,20,30,40,20,50])\n",
    "np.unique(a,return_index=True,return_counts=True)"
   ]
  },
  {
   "cell_type": "markdown",
   "id": "ecc87184",
   "metadata": {},
   "source": [
    "# horizontal and vertical syacking"
   ]
  },
  {
   "cell_type": "code",
   "execution_count": 69,
   "id": "24b1246d",
   "metadata": {},
   "outputs": [
    {
     "data": {
      "text/plain": [
       "array([1, 2, 3, 4])"
      ]
     },
     "execution_count": 69,
     "metadata": {},
     "output_type": "execute_result"
    }
   ],
   "source": [
    "a=np.array([1,2,3,4])\n",
    "b=np.array([5,6,7,8])\n",
    "a"
   ]
  },
  {
   "cell_type": "code",
   "execution_count": 70,
   "id": "9fb85a5d",
   "metadata": {},
   "outputs": [
    {
     "data": {
      "text/plain": [
       "array([5, 6, 7, 8])"
      ]
     },
     "execution_count": 70,
     "metadata": {},
     "output_type": "execute_result"
    }
   ],
   "source": [
    "b"
   ]
  },
  {
   "cell_type": "code",
   "execution_count": 71,
   "id": "7b121806",
   "metadata": {},
   "outputs": [
    {
     "data": {
      "text/plain": [
       "array([1, 2, 3, 4, 5, 6, 7, 8])"
      ]
     },
     "execution_count": 71,
     "metadata": {},
     "output_type": "execute_result"
    }
   ],
   "source": [
    "np.hstack((a,b))"
   ]
  },
  {
   "cell_type": "code",
   "execution_count": 72,
   "id": "5d05f422",
   "metadata": {},
   "outputs": [
    {
     "data": {
      "text/plain": [
       "array([[1, 2, 3, 4],\n",
       "       [5, 6, 7, 8]])"
      ]
     },
     "execution_count": 72,
     "metadata": {},
     "output_type": "execute_result"
    }
   ],
   "source": [
    "np.vstack((a,b))"
   ]
  },
  {
   "cell_type": "code",
   "execution_count": null,
   "id": "d10954b3",
   "metadata": {},
   "outputs": [],
   "source": []
  }
 ],
 "metadata": {
  "kernelspec": {
   "display_name": "Python 3 (ipykernel)",
   "language": "python",
   "name": "python3"
  },
  "language_info": {
   "codemirror_mode": {
    "name": "ipython",
    "version": 3
   },
   "file_extension": ".py",
   "mimetype": "text/x-python",
   "name": "python",
   "nbconvert_exporter": "python",
   "pygments_lexer": "ipython3",
   "version": "3.11.4"
  }
 },
 "nbformat": 4,
 "nbformat_minor": 5
}
