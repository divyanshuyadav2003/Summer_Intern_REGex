{
 "cells": [
  {
   "cell_type": "code",
   "execution_count": 7,
   "id": "0bdadfea-c7d2-441b-a396-fe05cecb04aa",
   "metadata": {},
   "outputs": [
    {
     "name": "stdin",
     "output_type": "stream",
     "text": [
      "enter password ABD@s5\n"
     ]
    },
    {
     "name": "stdout",
     "output_type": "stream",
     "text": [
      "incorrect\n"
     ]
    }
   ],
   "source": [
    "password=input(\"enter password\")\n",
    "capital=0\n",
    "small=0\n",
    "special=0\n",
    "no=0\n",
    "\n",
    "for i in password:\n",
    "    if(i in \"QWERTYUIOPASDFGHJKLZXCVBNM\"):\n",
    "        capital+=1\n",
    "    if(i in \"qwertyuiopasdfghjklzxcvbnm\"):\n",
    "        small+=1\n",
    "    if(i in \"@#!\"):\n",
    "        special+=1\n",
    "    if(i in \"1234567890\"):\n",
    "        no+=1\n",
    "if(capital>=3 and small >=2 and special>=1 and no>=1 and len(password)>=5 and len(password)<=15):\n",
    "    print(\"correct\")\n",
    "else:\n",
    "    print (\"incorrect\")\n",
    "    "
   ]
  },
  {
   "cell_type": "code",
   "execution_count": 28,
   "id": "fd8980f7-df62-4dc7-b599-d958d8718d5f",
   "metadata": {},
   "outputs": [
    {
     "name": "stdin",
     "output_type": "stream",
     "text": [
      "enter no 7\n"
     ]
    },
    {
     "name": "stdout",
     "output_type": "stream",
     "text": [
      "prime\n"
     ]
    }
   ],
   "source": [
    "no=int(input(\"enter no\"))\n",
    "count=0\n",
    "for i in range(2,no):\n",
    "    if(no%i==0):\n",
    "        count=1\n",
    "        break\n",
    "  \n",
    "if(count==0):\n",
    "    print(\"prime\")\n",
    "else:\n",
    "    print(\"not prime\")\n",
    "        \n",
    " \n",
    "  \n",
    "        "
   ]
  },
  {
   "cell_type": "code",
   "execution_count": 23,
   "id": "53e03a87-4dec-4942-8fc9-b9e4b7bc2852",
   "metadata": {},
   "outputs": [
    {
     "name": "stdout",
     "output_type": "stream",
     "text": [
      "\n",
      "1\n",
      "12\n",
      "123\n",
      "1234\n"
     ]
    }
   ],
   "source": [
    "'''\n",
    "1\n",
    "12\n",
    "123\n",
    "1234\n",
    "'''\n",
    "for i in range(1,6):\n",
    "    for j in range(1,i):\n",
    "        print(j,end=\"\")\n",
    "    print(\"\")"
   ]
  },
  {
   "cell_type": "code",
   "execution_count": 5,
   "id": "d9695500-3344-4e90-ba04-be10c7b4ed55",
   "metadata": {},
   "outputs": [
    {
     "name": "stdout",
     "output_type": "stream",
     "text": [
      "\n",
      "1\n",
      "23\n",
      "456\n",
      "78910\n"
     ]
    }
   ],
   "source": [
    "'''\n",
    "1\n",
    "23\n",
    "456\n",
    "78910\n",
    "'''\n",
    "count=0\n",
    "for i in range(1,6):\n",
    "    for j in range(1,i):\n",
    "        count+=1\n",
    "        print(count,end=\"\")\n",
    "    print(\"\")\n"
   ]
  },
  {
   "cell_type": "code",
   "execution_count": 25,
   "id": "a366593c-6d55-463c-99fa-39a46b75cef1",
   "metadata": {},
   "outputs": [
    {
     "name": "stdout",
     "output_type": "stream",
     "text": [
      "\n",
      "10  \n",
      "9  8  \n",
      "7  6  5  \n",
      "4  3  2  1  \n"
     ]
    }
   ],
   "source": [
    "'''\n",
    "10\n",
    "98\n",
    "765\n",
    "4321\n",
    "'''\n",
    "count=11\n",
    "for i in range(1,6):\n",
    "    for j in range(1,i):\n",
    "        count-=1\n",
    "        print(count,\" \",end=\"\")\n",
    "    print(\"\")"
   ]
  },
  {
   "cell_type": "code",
   "execution_count": 35,
   "id": "1e0c30c0-c01f-49ca-8080-c0623575d54d",
   "metadata": {},
   "outputs": [
    {
     "name": "stdout",
     "output_type": "stream",
     "text": [
      "\n",
      "A\n",
      "AB\n",
      "ABC\n",
      "ABCD\n"
     ]
    }
   ],
   "source": [
    "'''\n",
    "A\n",
    "AB\n",
    "ABC\n",
    "ABCD\n",
    "'''\n",
    "for i in range(1,6):\n",
    "    for j in range(1,i):\n",
    "        print(chr(64+j),end=\"\")\n",
    "    print(\"\")\n",
    "        \n",
    "    \n"
   ]
  },
  {
   "cell_type": "code",
   "execution_count": 41,
   "id": "30c14569-4de4-4968-abee-7eeddcc01487",
   "metadata": {},
   "outputs": [
    {
     "name": "stdout",
     "output_type": "stream",
     "text": [
      "A\n",
      "BC\n",
      "DEF\n"
     ]
    }
   ],
   "source": [
    "'''\n",
    "A \n",
    "B C\n",
    "D E F G\n",
    "'''\n",
    "count=0\n",
    "for i in range(1,4):\n",
    "    for j in range(0,i):\n",
    "        count+=1\n",
    "        print(chr(64+count),end=\"\")\n",
    "    print(\"\")\n",
    "        "
   ]
  },
  {
   "cell_type": "code",
   "execution_count": 43,
   "id": "7800b49c-33a0-4902-bc8b-b3eac4426c49",
   "metadata": {},
   "outputs": [
    {
     "name": "stdout",
     "output_type": "stream",
     "text": [
      "\n",
      "Z\n",
      "XV\n",
      "TRP\n"
     ]
    }
   ],
   "source": [
    "'''\n",
    "Z\n",
    "X V\n",
    "T R P\n",
    "'''\n",
    "count =0\n",
    "for i in range(1,5):\n",
    "    for j in range(1,i):\n",
    "        count-=2\n",
    "        print(chr(92+count),end=\"\")\n",
    "    print(\"\")\n",
    "    "
   ]
  },
  {
   "cell_type": "code",
   "execution_count": null,
   "id": "4da85a86-4f6c-4509-a365-28d15e4ec612",
   "metadata": {},
   "outputs": [],
   "source": [
    "'''\n",
    "*\n",
    "**\n",
    "* *\n",
    "*  *\n",
    "*****\n",
    "'''\n"
   ]
  },
  {
   "cell_type": "code",
   "execution_count": 51,
   "id": "a39614d1-3131-49c1-8680-c273e50811ac",
   "metadata": {},
   "outputs": [
    {
     "name": "stdout",
     "output_type": "stream",
     "text": [
      "\n",
      "1 A\n",
      "2 B3 C\n",
      "4 D5 E6 F\n",
      "7 G8 H9 I10 J\n"
     ]
    }
   ],
   "source": [
    "'''\n",
    "1a\n",
    "2b3c\n",
    "4d5e6f\n",
    "7g8h9i10j\n",
    "'''\n",
    "count=0\n",
    "for i in range(1,6):\n",
    "    for j in range(1,i):\n",
    "        count+=1\n",
    "        print(count,chr(64+count),end=\"\")\n",
    "    print(\"\")\n",
    "    \n"
   ]
  },
  {
   "cell_type": "code",
   "execution_count": 31,
   "id": "9e9bd0bc-f3c0-4080-92ba-02fc2a9d4b99",
   "metadata": {},
   "outputs": [
    {
     "name": "stdin",
     "output_type": "stream",
     "text": [
      "enter password FFFFSttt56#\n"
     ]
    },
    {
     "name": "stdout",
     "output_type": "stream",
     "text": [
      "correct\n"
     ]
    }
   ],
   "source": [
    "password=input(\"enter password\")\n",
    "capital=0\n",
    "small=0\n",
    "special=0\n",
    "no=0\n",
    "\n",
    "for i in password:\n",
    "    if(i >='A' and i<='Z'):\n",
    "        capital+=1\n",
    "    if(i >='a' and i<='z'):\n",
    "        small+=1\n",
    "    if(i in \"@#!\"):\n",
    "        special+=1\n",
    "    if(i in \"1234567890\"):\n",
    "        no+=1\n",
    "if(capital>=3 and small >=2 and special>=1 and no>=1 and len(password)>=5 and len(password)<=15):\n",
    "    print(\"correct\")\n",
    "else:\n",
    "    print (\"incorrect\")\n",
    "    "
   ]
  },
  {
   "cell_type": "code",
   "execution_count": null,
   "id": "2cb8ca67-b1b0-4e1d-8962-5053653d2ec7",
   "metadata": {},
   "outputs": [],
   "source": []
  }
 ],
 "metadata": {
  "kernelspec": {
   "display_name": "Python 3 (ipykernel)",
   "language": "python",
   "name": "python3"
  },
  "language_info": {
   "codemirror_mode": {
    "name": "ipython",
    "version": 3
   },
   "file_extension": ".py",
   "mimetype": "text/x-python",
   "name": "python",
   "nbconvert_exporter": "python",
   "pygments_lexer": "ipython3",
   "version": "3.12.0"
  }
 },
 "nbformat": 4,
 "nbformat_minor": 5
}
