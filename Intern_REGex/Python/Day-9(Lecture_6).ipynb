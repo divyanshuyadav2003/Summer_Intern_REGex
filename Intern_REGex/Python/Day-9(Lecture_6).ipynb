{
 "cells": [
  {
   "cell_type": "code",
   "execution_count": 1,
   "id": "847d01a6",
   "metadata": {},
   "outputs": [],
   "source": [
    "# class and object"
   ]
  },
  {
   "cell_type": "code",
   "execution_count": 4,
   "id": "aba24e69",
   "metadata": {},
   "outputs": [
    {
     "name": "stdout",
     "output_type": "stream",
     "text": [
      "yellow 5\n"
     ]
    }
   ],
   "source": [
    "class house:\n",
    "    color=\"yellow\"\n",
    "    room=5\n",
    "    \n",
    "# object h1\n",
    "\n",
    "h1=house()\n",
    "print(h1.color,h1.room)"
   ]
  },
  {
   "cell_type": "code",
   "execution_count": 6,
   "id": "220664ad",
   "metadata": {},
   "outputs": [
    {
     "name": "stdout",
     "output_type": "stream",
     "text": [
      "10\n"
     ]
    }
   ],
   "source": [
    "h2=house()\n",
    "h2.room=10\n",
    "print(h2.room)"
   ]
  },
  {
   "cell_type": "code",
   "execution_count": 7,
   "id": "f413e471",
   "metadata": {},
   "outputs": [
    {
     "name": "stdout",
     "output_type": "stream",
     "text": [
      "house has yellow 5\n"
     ]
    }
   ],
   "source": [
    "class house:\n",
    "    color=\"yellow\"\n",
    "    room=5\n",
    "    \n",
    "    def info(self):\n",
    "        print(\"house has\",self.color,self.room)\n",
    "    \n",
    "# object h1\n",
    "\n",
    "h1=house()\n",
    "h1.info()"
   ]
  },
  {
   "cell_type": "code",
   "execution_count": 9,
   "id": "3553878f",
   "metadata": {},
   "outputs": [
    {
     "name": "stdout",
     "output_type": "stream",
     "text": [
      "house has yellow 10\n"
     ]
    }
   ],
   "source": [
    "h2=house()\n",
    "h2.room=10\n",
    "h2.info()"
   ]
  },
  {
   "cell_type": "code",
   "execution_count": 10,
   "id": "c79edf4d",
   "metadata": {},
   "outputs": [],
   "source": [
    "# constructor:-\n",
    "# function\n",
    "# obj=>memory assign karwata \n",
    "# obj variable =>initialize"
   ]
  },
  {
   "cell_type": "code",
   "execution_count": 30,
   "id": "f6ff1d5e",
   "metadata": {},
   "outputs": [],
   "source": [
    "class house:\n",
    "    def __init__(self,color): # self mein memory refrence of current object\n",
    "        print(\"hello xyz\",color)\n",
    "        \n"
   ]
  },
  {
   "cell_type": "code",
   "execution_count": 29,
   "id": "46fffc78",
   "metadata": {},
   "outputs": [
    {
     "name": "stdout",
     "output_type": "stream",
     "text": [
      "hello xyz yellow\n"
     ]
    }
   ],
   "source": [
    "h1=house(\"yellow\")"
   ]
  },
  {
   "cell_type": "code",
   "execution_count": 34,
   "id": "ef7e0c74",
   "metadata": {},
   "outputs": [
    {
     "name": "stdout",
     "output_type": "stream",
     "text": [
      "hello xyz green\n"
     ]
    }
   ],
   "source": [
    "h2=house(\"green\")"
   ]
  },
  {
   "cell_type": "code",
   "execution_count": 35,
   "id": "2ef0da2d",
   "metadata": {},
   "outputs": [
    {
     "name": "stdout",
     "output_type": "stream",
     "text": [
      "yellow\n",
      "green\n"
     ]
    }
   ],
   "source": [
    "class house:\n",
    "    def __init__(self,color):\n",
    "        self.hcolor=color\n",
    "        \n",
    "h1=house(\"yellow\")\n",
    "h2=house(\"green\")\n",
    "print(h1.hcolor)\n",
    "print(h2.hcolor)"
   ]
  },
  {
   "cell_type": "code",
   "execution_count": 40,
   "id": "31029b80",
   "metadata": {},
   "outputs": [
    {
     "name": "stdout",
     "output_type": "stream",
     "text": [
      "yellow 5\n"
     ]
    }
   ],
   "source": [
    "class house:\n",
    "    def __init__(self,color,room):\n",
    "        self.hcolor=color\n",
    "        self.hroom=room\n",
    "        \n",
    "h1=house(\"yellow\",5)\n",
    "print(h1.hcolor,h1.hroom)"
   ]
  },
  {
   "cell_type": "code",
   "execution_count": 46,
   "id": "c6b05bfa",
   "metadata": {},
   "outputs": [
    {
     "name": "stdout",
     "output_type": "stream",
     "text": [
      "yellow 5\n"
     ]
    }
   ],
   "source": [
    "class house:\n",
    "    def __init__(self,color,room):\n",
    "        self.hcolor=color\n",
    "        self.hroom=room\n",
    "    \n",
    "    def details(self):\n",
    "         print(\"hello xyz\",color,color)\n",
    "        \n",
    "h1=house(\"yellow\",5)\n",
    "print(h1.hcolor,h1.hroom)\n"
   ]
  },
  {
   "cell_type": "code",
   "execution_count": 63,
   "id": "9eccafd6",
   "metadata": {},
   "outputs": [
    {
     "name": "stdout",
     "output_type": "stream",
     "text": [
      "Name : ram  Domain :  gmail  Salary : 2000\n"
     ]
    }
   ],
   "source": [
    "class employee:\n",
    "    def __init__(self,eid,ename,email,company,salary):\n",
    "        self.id=eid\n",
    "        self.name=ename\n",
    "        self.mail=email\n",
    "        self.sal=salary\n",
    "    \n",
    "    def info(self):\n",
    "        print(\"Name :\",self.name,\" Domain : \",self.mail.split(\"@\")[-1],\" Salary :\",self.sal)\n",
    "        \n",
    "e1=employee(\"001\",\"ram\",\"ash@gmail\",\"Abc pvt\",2000)\n",
    "e1.info()\n"
   ]
  },
  {
   "cell_type": "code",
   "execution_count": 64,
   "id": "218b4078",
   "metadata": {},
   "outputs": [],
   "source": [
    "# inheritance\n",
    "# already defined cheezo ko dusri class mein use krna\n",
    "# parent/base/super\n",
    "# child/derived/sub class"
   ]
  },
  {
   "cell_type": "code",
   "execution_count": 76,
   "id": "9778183a",
   "metadata": {},
   "outputs": [
    {
     "data": {
      "text/plain": [
       "1000"
      ]
     },
     "execution_count": 76,
     "metadata": {},
     "output_type": "execute_result"
    }
   ],
   "source": [
    "class family:\n",
    "    amount=1000\n",
    "    \n",
    "class childern(family):\n",
    "    pocket_money=50\n",
    "    \n",
    "    \n",
    "    \n",
    "c1=childern()\n",
    "c1.pocket_money\n"
   ]
  },
  {
   "cell_type": "code",
   "execution_count": 77,
   "id": "d96c1ae4",
   "metadata": {},
   "outputs": [
    {
     "name": "stdout",
     "output_type": "stream",
     "text": [
      "1000\n"
     ]
    },
    {
     "data": {
      "text/plain": [
       "50"
      ]
     },
     "execution_count": 77,
     "metadata": {},
     "output_type": "execute_result"
    }
   ],
   "source": [
    "class family:\n",
    "    amount=1000\n",
    "    \n",
    "class childern(family):\n",
    "    pocket_money=50\n",
    "    print(family.amount)\n",
    "    \n",
    "    \n",
    "c1=childern()\n",
    "c1.pocket_money\n"
   ]
  },
  {
   "cell_type": "code",
   "execution_count": 92,
   "id": "c8d008d4",
   "metadata": {},
   "outputs": [
    {
     "data": {
      "text/plain": [
       "'raju'"
      ]
     },
     "execution_count": 92,
     "metadata": {},
     "output_type": "execute_result"
    }
   ],
   "source": [
    "class driver:\n",
    "    def __init__(self,ids,name,email):\n",
    "        self.ids=ids\n",
    "        self.name=name\n",
    "        self.email=email\n",
    "        \n",
    " \n",
    "class customer(driver):\n",
    "    def __init__(self,cids,cname,cemail):\n",
    "        super().__init__(cids,cname,cemail)\n",
    "            \n",
    "c1=customer(99,\"raju\",\"raju@gmail.com\")\n",
    "c1.name"
   ]
  },
  {
   "cell_type": "code",
   "execution_count": 91,
   "id": "ecbcdf6e",
   "metadata": {},
   "outputs": [
    {
     "name": "stdout",
     "output_type": "stream",
     "text": [
      "Id =  99 Name =  raju Email =  raju@gmail.com\n"
     ]
    }
   ],
   "source": [
    "class driver:\n",
    "    def __init__(self,ids,name,email):\n",
    "        self.ids=ids\n",
    "        self.name=name\n",
    "        self.email=email\n",
    "        \n",
    "    def info(self):\n",
    "        print(\"Id = \",self.ids,\"Name = \",self.name,\"Email = \",self.email)\n",
    "        \n",
    "class customer(driver):\n",
    "    def __init__(self,cids,cname,cemail):\n",
    "        super().__init__(cids,cname,cemail)\n",
    "            \n",
    "c1=customer(99,\"raju\",\"raju@gmail.com\")\n",
    "c1.name\n",
    "c1.info()"
   ]
  },
  {
   "cell_type": "code",
   "execution_count": 95,
   "id": "5597c774",
   "metadata": {},
   "outputs": [
    {
     "name": "stdout",
     "output_type": "stream",
     "text": [
      "Id =  99 Name =  raju Email =  raju@gmail.com\n"
     ]
    }
   ],
   "source": [
    "class driver:\n",
    "    def __init__(self,ids,name,email):\n",
    "        self.ids=ids\n",
    "        self.name=name\n",
    "        self.email=email\n",
    "        \n",
    "    def info(self):\n",
    "        print(\"Id = \",self.ids,\"Name = \",self.name,\"Email = \",self.email)\n",
    "        \n",
    "class customer(driver):\n",
    "    def __init__(self,cids,cname,cemail):\n",
    "        super().__init__(cids,cname,cemail)\n",
    "        \n",
    "    def cinfo(self):\n",
    "        super().info()\n",
    "            \n",
    "c1=customer(99,\"raju\",\"raju@gmail.com\")\n",
    "c1.name\n",
    "c1.cinfo()"
   ]
  },
  {
   "cell_type": "code",
   "execution_count": 96,
   "id": "ff4e430e",
   "metadata": {},
   "outputs": [],
   "source": [
    "# grandfather\n",
    "# father\n",
    "# child\n",
    "# acess of chid ,father and grandfather"
   ]
  },
  {
   "cell_type": "code",
   "execution_count": 97,
   "id": "147a1a86",
   "metadata": {},
   "outputs": [],
   "source": [
    "class grandfather:\n",
    "    def __init__(self,gfname,gfage,gfstatus):\n",
    "        self.gfname=name\n",
    "        self.gfage=age\n",
    "        self.gfstatus=status\n",
    "        \n",
    "class father(grandfather):\n",
    "    def __init__(self,fname,fage,fstatus):\n",
    "        super().__init__()"
   ]
  },
  {
   "cell_type": "code",
   "execution_count": 102,
   "id": "89ff91dc",
   "metadata": {},
   "outputs": [
    {
     "name": "stdout",
     "output_type": "stream",
     "text": [
      "my name is ram\n",
      "my name is shyam\n",
      "my name is jay\n"
     ]
    }
   ],
   "source": [
    "class parent1:\n",
    "    def myfunc(self):\n",
    "        print(\"my name is ram\")\n",
    "        \n",
    "class parent2:\n",
    "    def func(self):\n",
    "        print(\"my name is shyam\")\n",
    "        \n",
    "class mainparent(parent1,parent2):\n",
    "    def fun(self):\n",
    "        print(\"my name is jay\")\n",
    "        \n",
    "m=mainparent()\n",
    "m.myfunc()\n",
    "m.func()\n",
    "m.fun()"
   ]
  },
  {
   "cell_type": "code",
   "execution_count": null,
   "id": "779bb5d4",
   "metadata": {},
   "outputs": [],
   "source": [
    "# what is mro(method resolution order)"
   ]
  }
 ],
 "metadata": {
  "kernelspec": {
   "display_name": "Python 3 (ipykernel)",
   "language": "python",
   "name": "python3"
  },
  "language_info": {
   "codemirror_mode": {
    "name": "ipython",
    "version": 3
   },
   "file_extension": ".py",
   "mimetype": "text/x-python",
   "name": "python",
   "nbconvert_exporter": "python",
   "pygments_lexer": "ipython3",
   "version": "3.11.4"
  }
 },
 "nbformat": 4,
 "nbformat_minor": 5
}
