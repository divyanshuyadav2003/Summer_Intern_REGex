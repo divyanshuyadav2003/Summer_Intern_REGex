{
 "cells": [
  {
   "cell_type": "code",
   "execution_count": 3,
   "id": "bc955972",
   "metadata": {},
   "outputs": [
    {
     "name": "stdout",
     "output_type": "stream",
     "text": [
      "enter the value of a : 2\n",
      "enter the value of b : 3\n",
      "3 2\n"
     ]
    }
   ],
   "source": [
    "a=int(input(\"enter the value of a : \"))\n",
    "b=int(input(\"enter the value of b : \"))\n",
    "a=a+b\n",
    "b=a-b\n",
    "a=a-b\n",
    "print(a,b)"
   ]
  },
  {
   "cell_type": "code",
   "execution_count": 26,
   "id": "09c5c2a2",
   "metadata": {},
   "outputs": [
    {
     "name": "stdout",
     "output_type": "stream",
     "text": [
      "enter the number :6778\n",
      "Given number 6778\n",
      "8 7 7 6 "
     ]
    }
   ],
   "source": [
    "n = int(input(\"enter the number :\"))\n",
    "print(\"Given number\", n)\n",
    "while n > 0:\n",
    "    digit = n % 10\n",
    "    n = n // 10\n",
    "    print(digit, end=\" \")\n"
   ]
  },
  {
   "cell_type": "code",
   "execution_count": 8,
   "id": "add6e582",
   "metadata": {},
   "outputs": [
    {
     "name": "stdout",
     "output_type": "stream",
     "text": [
      "enter the number a : 1\n",
      "enter the number b : 2\n",
      "enter the number c : 3\n",
      "6\n"
     ]
    }
   ],
   "source": [
    "a=int(input(\"enter the number a : \"))\n",
    "b=int(input(\"enter the number b : \"))\n",
    "c=int(input(\"enter the number c : \"))\n",
    "sum=(a+b+c)\n",
    "print(sum)"
   ]
  },
  {
   "cell_type": "code",
   "execution_count": 32,
   "id": "309ae8dc",
   "metadata": {},
   "outputs": [
    {
     "name": "stdout",
     "output_type": "stream",
     "text": [
      "enter the number a : 1\n",
      "enter the number b : 2\n",
      "enter the number c : 3\n",
      "14\n"
     ]
    }
   ],
   "source": [
    "a=int(input(\"enter the number a : \"))\n",
    "b=int(input(\"enter the number b : \"))\n",
    "c=int(input(\"enter the number c : \"))\n",
    "square=(a**2+b**2+c**2)\n",
    "print(square)"
   ]
  },
  {
   "cell_type": "code",
   "execution_count": 31,
   "id": "198b790d",
   "metadata": {},
   "outputs": [
    {
     "name": "stdout",
     "output_type": "stream",
     "text": [
      "armstrong number\n"
     ]
    }
   ],
   "source": [
    "num=153\n",
    "x=num\n",
    "total=0\n",
    "\n",
    "\n",
    "while(num>0):\n",
    "    rem=num%10\n",
    "    total+=rem**3\n",
    "    num=num//10\n",
    "    \n",
    "    \n",
    "if(total==x):\n",
    "    print(\"armstrong number\")\n",
    "else:\n",
    "    print(\"not armstrong number\")"
   ]
  },
  {
   "cell_type": "code",
   "execution_count": 20,
   "id": "fe6ac90b",
   "metadata": {},
   "outputs": [
    {
     "name": "stdout",
     "output_type": "stream",
     "text": [
      "narcissist number\n"
     ]
    }
   ],
   "source": [
    "num=153\n",
    "x=num\n",
    "total=0\n",
    "\n",
    "\n",
    "while(num>0):\n",
    "    rem=num%10\n",
    "    total+=rem**3\n",
    "    num=num//10\n",
    "    \n",
    "    \n",
    "if(total==x):\n",
    "    print(\"narcissist number\")\n",
    "else:\n",
    "    print(\"not narcissist number\")"
   ]
  },
  {
   "cell_type": "code",
   "execution_count": 28,
   "id": "b0898261",
   "metadata": {},
   "outputs": [
    {
     "name": "stdout",
     "output_type": "stream",
     "text": [
      "enter the number : 1234\n",
      "float no. 1234.00\n"
     ]
    }
   ],
   "source": [
    "x=int(input(\"enter the number : \"))\n",
    "z = format(x, \".2f\")\n",
    "print(\"float no.\",z)"
   ]
  },
  {
   "cell_type": "code",
   "execution_count": 13,
   "id": "0504e987",
   "metadata": {},
   "outputs": [
    {
     "name": "stdout",
     "output_type": "stream",
     "text": [
      "enter the number :12\n",
      "1\n",
      "2\n",
      "3\n",
      "4\n",
      "6\n",
      "12\n"
     ]
    }
   ],
   "source": [
    "a=int(input(\"enter the number :\"))\n",
    "for i in range(1,a+1):\n",
    "    if a%i==0:\n",
    "        print(i)"
   ]
  },
  {
   "cell_type": "code",
   "execution_count": 7,
   "id": "01344666",
   "metadata": {},
   "outputs": [
    {
     "name": "stdout",
     "output_type": "stream",
     "text": [
      "enter the values : 1.2\n",
      "enter the values : 3.4\n",
      "enter the values : 5.\n",
      "enter the values : 4\n",
      "enter the values : 5.6\n",
      "[1.2, 3.4, 5.0, 4.0, 5.6]\n"
     ]
    }
   ],
   "source": [
    "a=[]\n",
    "for i in range(0,5):\n",
    "    val=float(input(\"enter the values : \"))\n",
    "    a.append(val)\n",
    "    i+=1\n",
    "print(a)"
   ]
  },
  {
   "cell_type": "markdown",
   "id": "ab786379",
   "metadata": {},
   "source": []
  },
  {
   "cell_type": "code",
   "execution_count": 24,
   "id": "2416a4d7",
   "metadata": {},
   "outputs": [
    {
     "name": "stdout",
     "output_type": "stream",
     "text": [
      "enter the radius = 10\n",
      "enter the height = 1\n",
      "314.0\n",
      "12560.0\n"
     ]
    }
   ],
   "source": [
    "pi=3.14\n",
    "r=int(input(\"enter the radius = \"))\n",
    "h=int(input(\"enter the height = \"))\n",
    "v=pi*r**2*h\n",
    "print(v)\n",
    "\n",
    "cost=v*40\n",
    "print(cost)"
   ]
  },
  {
   "cell_type": "code",
   "execution_count": null,
   "id": "01004e2f",
   "metadata": {},
   "outputs": [],
   "source": []
  }
 ],
 "metadata": {
  "kernelspec": {
   "display_name": "Python 3 (ipykernel)",
   "language": "python",
   "name": "python3"
  },
  "language_info": {
   "codemirror_mode": {
    "name": "ipython",
    "version": 3
   },
   "file_extension": ".py",
   "mimetype": "text/x-python",
   "name": "python",
   "nbconvert_exporter": "python",
   "pygments_lexer": "ipython3",
   "version": "3.11.4"
  }
 },
 "nbformat": 4,
 "nbformat_minor": 5
}
