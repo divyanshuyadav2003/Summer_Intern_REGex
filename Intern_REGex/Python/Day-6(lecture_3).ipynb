{
 "cells": [
  {
   "cell_type": "code",
   "execution_count": 6,
   "id": "6b880b8e-1079-4a17-be23-2bd529d426ce",
   "metadata": {},
   "outputs": [
    {
     "name": "stdout",
     "output_type": "stream",
     "text": [
      "$$$$*\n",
      "$$$**\n",
      "$$***\n",
      "$****\n",
      "*****\n"
     ]
    }
   ],
   "source": [
    "'''\n",
    "$$$$*\n",
    "$$$**\n",
    "$$***\n",
    "$****\n",
    "*****\n",
    "'''\n",
    "for i in range(1,6):\n",
    "    for j in range(5,i,-1):\n",
    "        print(\"$\",end=\"\")\n",
    "    for k in range(0,i):\n",
    "        print(\"*\",end=\"\")\n",
    "    print(\"\")\n",
    "\n"
   ]
  },
  {
   "cell_type": "code",
   "execution_count": 8,
   "id": "ca8bba57-85e1-448b-9de8-e0db5a7e548c",
   "metadata": {},
   "outputs": [
    {
     "name": "stdout",
     "output_type": "stream",
     "text": [
      "hello 1\n",
      "hello 2\n",
      "hello 3\n",
      "hello 4\n"
     ]
    }
   ],
   "source": [
    "#while loop\n",
    "i=1\n",
    "while(i<5):\n",
    "\n",
    "    print(\"hello\",i)\n",
    "    i+=1"
   ]
  },
  {
   "cell_type": "code",
   "execution_count": 9,
   "id": "9066aec1-6911-488c-8020-4123e72a1078",
   "metadata": {},
   "outputs": [],
   "source": [
    "#list tuple and dictionary\n"
   ]
  },
  {
   "cell_type": "code",
   "execution_count": 11,
   "id": "491c6680-9ad7-49b6-a600-836271fa7df2",
   "metadata": {},
   "outputs": [
    {
     "name": "stdout",
     "output_type": "stream",
     "text": [
      "<class 'list'>\n"
     ]
    }
   ],
   "source": [
    "#list : collection of elements , which has index positions\n",
    "#mutable datatypes\n",
    "#ordered collection of elements\n",
    "mylist=[10,20,\"naina\"]\n",
    "print(type(mylist))\n"
   ]
  },
  {
   "cell_type": "code",
   "execution_count": 12,
   "id": "c754e47a-3b80-4eed-9a32-d84d7dd663d5",
   "metadata": {},
   "outputs": [
    {
     "data": {
      "text/plain": [
       "[10, 20, 'naina']"
      ]
     },
     "execution_count": 12,
     "metadata": {},
     "output_type": "execute_result"
    }
   ],
   "source": [
    "mylist[0:15]"
   ]
  },
  {
   "cell_type": "code",
   "execution_count": 13,
   "id": "289b0e90-ba72-4e71-9105-30f672f91091",
   "metadata": {},
   "outputs": [],
   "source": [
    "mylist[0]=100"
   ]
  },
  {
   "cell_type": "code",
   "execution_count": 14,
   "id": "0459c86e-6d6d-422a-9c5d-bacb7d068af5",
   "metadata": {},
   "outputs": [
    {
     "data": {
      "text/plain": [
       "[100, 20, 'naina']"
      ]
     },
     "execution_count": 14,
     "metadata": {},
     "output_type": "execute_result"
    }
   ],
   "source": [
    "mylist"
   ]
  },
  {
   "cell_type": "code",
   "execution_count": 25,
   "id": "6d496650-81a4-4f2e-b303-ef4d382d1eba",
   "metadata": {},
   "outputs": [
    {
     "name": "stdout",
     "output_type": "stream",
     "text": [
      "[100, 20, 'naina', 50, '1', '0', ' ', '2', '0', ' ', '4', '0', 'hey', 90, '1', '0', ' ', '2', '0', ' ', '4', '0', 50]\n"
     ]
    }
   ],
   "source": [
    "mylist.append(50)# append used to add element in list\n",
    "print(mylist)\n"
   ]
  },
  {
   "cell_type": "code",
   "execution_count": 24,
   "id": "951600c8-e83a-450b-98eb-a28a301607da",
   "metadata": {},
   "outputs": [],
   "source": [
    "mylist.extend(\"10 20 40\")\n",
    "#extend used to add more then 1 elemnt in list\n"
   ]
  },
  {
   "cell_type": "code",
   "execution_count": 19,
   "id": "39007090-3a51-4f2a-a187-d90eb91cad4e",
   "metadata": {},
   "outputs": [
    {
     "data": {
      "text/plain": [
       "[100, 20, 'naina', 50, '1', '0', ' ', '2', '0', ' ', '4', '0']"
      ]
     },
     "execution_count": 19,
     "metadata": {},
     "output_type": "execute_result"
    }
   ],
   "source": [
    "mylist\n"
   ]
  },
  {
   "cell_type": "code",
   "execution_count": 22,
   "id": "ccc3af84-4aa0-4e2e-96d9-f6bbf38b0a9a",
   "metadata": {},
   "outputs": [],
   "source": [
    "mylist.extend([\"hey\",90])"
   ]
  },
  {
   "cell_type": "code",
   "execution_count": 23,
   "id": "c6c32bd9-1146-45b0-9e7f-9a2c94293b7e",
   "metadata": {},
   "outputs": [
    {
     "data": {
      "text/plain": [
       "[100, 20, 'naina', 50, '1', '0', ' ', '2', '0', ' ', '4', '0', 'hey', 90]"
      ]
     },
     "execution_count": 23,
     "metadata": {},
     "output_type": "execute_result"
    }
   ],
   "source": [
    "mylist\n"
   ]
  },
  {
   "cell_type": "code",
   "execution_count": 26,
   "id": "f811df0d-5fc0-4801-8d22-f40d15f962fb",
   "metadata": {},
   "outputs": [
    {
     "name": "stdout",
     "output_type": "stream",
     "text": [
      "Help on list object:\n",
      "\n",
      "class list(object)\n",
      " |  list(iterable=(), /)\n",
      " |\n",
      " |  Built-in mutable sequence.\n",
      " |\n",
      " |  If no argument is given, the constructor creates a new empty list.\n",
      " |  The argument must be an iterable if specified.\n",
      " |\n",
      " |  Methods defined here:\n",
      " |\n",
      " |  __add__(self, value, /)\n",
      " |      Return self+value.\n",
      " |\n",
      " |  __contains__(self, key, /)\n",
      " |      Return bool(key in self).\n",
      " |\n",
      " |  __delitem__(self, key, /)\n",
      " |      Delete self[key].\n",
      " |\n",
      " |  __eq__(self, value, /)\n",
      " |      Return self==value.\n",
      " |\n",
      " |  __ge__(self, value, /)\n",
      " |      Return self>=value.\n",
      " |\n",
      " |  __getattribute__(self, name, /)\n",
      " |      Return getattr(self, name).\n",
      " |\n",
      " |  __getitem__(self, index, /)\n",
      " |      Return self[index].\n",
      " |\n",
      " |  __gt__(self, value, /)\n",
      " |      Return self>value.\n",
      " |\n",
      " |  __iadd__(self, value, /)\n",
      " |      Implement self+=value.\n",
      " |\n",
      " |  __imul__(self, value, /)\n",
      " |      Implement self*=value.\n",
      " |\n",
      " |  __init__(self, /, *args, **kwargs)\n",
      " |      Initialize self.  See help(type(self)) for accurate signature.\n",
      " |\n",
      " |  __iter__(self, /)\n",
      " |      Implement iter(self).\n",
      " |\n",
      " |  __le__(self, value, /)\n",
      " |      Return self<=value.\n",
      " |\n",
      " |  __len__(self, /)\n",
      " |      Return len(self).\n",
      " |\n",
      " |  __lt__(self, value, /)\n",
      " |      Return self<value.\n",
      " |\n",
      " |  __mul__(self, value, /)\n",
      " |      Return self*value.\n",
      " |\n",
      " |  __ne__(self, value, /)\n",
      " |      Return self!=value.\n",
      " |\n",
      " |  __repr__(self, /)\n",
      " |      Return repr(self).\n",
      " |\n",
      " |  __reversed__(self, /)\n",
      " |      Return a reverse iterator over the list.\n",
      " |\n",
      " |  __rmul__(self, value, /)\n",
      " |      Return value*self.\n",
      " |\n",
      " |  __setitem__(self, key, value, /)\n",
      " |      Set self[key] to value.\n",
      " |\n",
      " |  __sizeof__(self, /)\n",
      " |      Return the size of the list in memory, in bytes.\n",
      " |\n",
      " |  append(self, object, /)\n",
      " |      Append object to the end of the list.\n",
      " |\n",
      " |  clear(self, /)\n",
      " |      Remove all items from list.\n",
      " |\n",
      " |  copy(self, /)\n",
      " |      Return a shallow copy of the list.\n",
      " |\n",
      " |  count(self, value, /)\n",
      " |      Return number of occurrences of value.\n",
      " |\n",
      " |  extend(self, iterable, /)\n",
      " |      Extend list by appending elements from the iterable.\n",
      " |\n",
      " |  index(self, value, start=0, stop=9223372036854775807, /)\n",
      " |      Return first index of value.\n",
      " |\n",
      " |      Raises ValueError if the value is not present.\n",
      " |\n",
      " |  insert(self, index, object, /)\n",
      " |      Insert object before index.\n",
      " |\n",
      " |  pop(self, index=-1, /)\n",
      " |      Remove and return item at index (default last).\n",
      " |\n",
      " |      Raises IndexError if list is empty or index is out of range.\n",
      " |\n",
      " |  remove(self, value, /)\n",
      " |      Remove first occurrence of value.\n",
      " |\n",
      " |      Raises ValueError if the value is not present.\n",
      " |\n",
      " |  reverse(self, /)\n",
      " |      Reverse *IN PLACE*.\n",
      " |\n",
      " |  sort(self, /, *, key=None, reverse=False)\n",
      " |      Sort the list in ascending order and return None.\n",
      " |\n",
      " |      The sort is in-place (i.e. the list itself is modified) and stable (i.e. the\n",
      " |      order of two equal elements is maintained).\n",
      " |\n",
      " |      If a key function is given, apply it once to each list item and sort them,\n",
      " |      ascending or descending, according to their function values.\n",
      " |\n",
      " |      The reverse flag can be set to sort in descending order.\n",
      " |\n",
      " |  ----------------------------------------------------------------------\n",
      " |  Class methods defined here:\n",
      " |\n",
      " |  __class_getitem__(...) from builtins.type\n",
      " |      See PEP 585\n",
      " |\n",
      " |  ----------------------------------------------------------------------\n",
      " |  Static methods defined here:\n",
      " |\n",
      " |  __new__(*args, **kwargs) from builtins.type\n",
      " |      Create and return a new object.  See help(type) for accurate signature.\n",
      " |\n",
      " |  ----------------------------------------------------------------------\n",
      " |  Data and other attributes defined here:\n",
      " |\n",
      " |  __hash__ = None\n",
      "\n"
     ]
    }
   ],
   "source": [
    "help(mylist) #help gives all the function which can work on the datatype"
   ]
  },
  {
   "cell_type": "code",
   "execution_count": 31,
   "id": "00ede803-aeb1-4e28-ad4e-10bc5471f37a",
   "metadata": {},
   "outputs": [
    {
     "name": "stdout",
     "output_type": "stream",
     "text": [
      "[100, 20, 'naina', 50, '1', '0', ' ', '2', '0', ' ', '4', '0', 'hey', 90, '1', '0', ' ', '2', '0']\n",
      "[20, 'naina', 50, '1', '0', ' ', '2', '0', ' ', '4', '0', 'hey', 90, '1', '0', ' ', '2']\n"
     ]
    }
   ],
   "source": [
    "print(mylist)#pop remove the element\n",
    "mylist.pop()\n",
    "mylist.pop(0)\n",
    "print(mylist)"
   ]
  },
  {
   "cell_type": "code",
   "execution_count": 36,
   "id": "037df17c-994c-4ba8-b9d6-328648a22d06",
   "metadata": {},
   "outputs": [
    {
     "name": "stdout",
     "output_type": "stream",
     "text": [
      "[20, 50, '1', '0', ' ', '2', '0', ' ', '4', '0', 'hey', 90, '1', '0', ' ', '2']\n",
      "[20, 50, '1', ' ', '2', '0', ' ', '4', '0', 'hey', 90, '1', '0', ' ', '2']\n"
     ]
    }
   ],
   "source": [
    "print(mylist)\n",
    "mylist.remove(\"0\")\n",
    "print(mylist)\n"
   ]
  },
  {
   "cell_type": "code",
   "execution_count": 38,
   "id": "b599b1da-dec9-4a4c-bd24-ccec108f9b31",
   "metadata": {},
   "outputs": [
    {
     "name": "stdout",
     "output_type": "stream",
     "text": [
      "[20, ' ', '2', '0', ' ', '4', '0', 'hey', 90, '1', '0', ' ', '2']\n"
     ]
    }
   ],
   "source": [
    "del mylist[1]\n",
    "print(mylist)"
   ]
  },
  {
   "cell_type": "code",
   "execution_count": 48,
   "id": "1b35cbe4-604d-4bc5-a40e-6ebf7ad892d3",
   "metadata": {},
   "outputs": [
    {
     "name": "stdout",
     "output_type": "stream",
     "text": [
      "[100, 400, 900, 1600]\n"
     ]
    }
   ],
   "source": [
    "mlist=[10,20,30,40,\"naina\"]\n",
    "nlist=[]\n",
    "for i in mlist:\n",
    "    if(type(i) is int):\n",
    "        nlist.append(i**2)\n",
    "print(nlist)\n",
    "    \n",
    "    \n",
    "        "
   ]
  },
  {
   "cell_type": "code",
   "execution_count": 55,
   "id": "a20701a2-c0f0-4541-9ee4-875a763bd905",
   "metadata": {},
   "outputs": [
    {
     "name": "stdout",
     "output_type": "stream",
     "text": [
      "armstrong\n"
     ]
    }
   ],
   "source": [
    "#armstrong no.\n",
    "no=153\n",
    "temp=no\n",
    "sum=0\n",
    "while no>0:\n",
    "    \n",
    "    rem=no%10\n",
    "    sum+=(rem**3)\n",
    "    no=no//10\n",
    "if(sum==temp):\n",
    "    print(\"armstrong\")\n",
    "else:\n",
    "    print(\"not armstrong\")\n",
    "    "
   ]
  },
  {
   "cell_type": "code",
   "execution_count": 56,
   "id": "aa63b891-9183-4604-aa01-5934aa8718e8",
   "metadata": {},
   "outputs": [
    {
     "data": {
      "text/plain": [
       "'\\nsunday 1,2,3,4,5,6,7\\nnext week 2,3,4,5,6,7\\nfind sum of ammount\\n'"
      ]
     },
     "execution_count": 56,
     "metadata": {},
     "output_type": "execute_result"
    }
   ],
   "source": [
    "#take input from user no of days\n",
    "'''\n",
    "sunday 1,2,3,4,5,6,7\n",
    "next week 2,3,4,5,6,7\n",
    "find sum of ammount\n",
    "'''\n",
    "\n"
   ]
  },
  {
   "cell_type": "code",
   "execution_count": 59,
   "id": "a91d6357-a6ed-4c10-a41e-911b2783d5b5",
   "metadata": {},
   "outputs": [
    {
     "name": "stdout",
     "output_type": "stream",
     "text": [
      "<class 'tuple'>\n",
      "<class 'tuple'>\n"
     ]
    }
   ],
   "source": [
    "#tuple \n",
    "#immutable\n",
    "#faster then list\n",
    "mytuple=(10,20) #required seperated with comma for tupple\n",
    "newtupple=(10,)\n",
    "print(type(mytuple))\n",
    "print(type(newtupple))\n"
   ]
  },
  {
   "cell_type": "code",
   "execution_count": 64,
   "id": "5fac3f91-4070-47dc-971c-e9f53f8ce167",
   "metadata": {},
   "outputs": [
    {
     "name": "stdout",
     "output_type": "stream",
     "text": [
      "Help on tuple object:\n",
      "\n",
      "class tuple(object)\n",
      " |  tuple(iterable=(), /)\n",
      " |\n",
      " |  Built-in immutable sequence.\n",
      " |\n",
      " |  If no argument is given, the constructor returns an empty tuple.\n",
      " |  If iterable is specified the tuple is initialized from iterable's items.\n",
      " |\n",
      " |  If the argument is a tuple, the return value is the same object.\n",
      " |\n",
      " |  Built-in subclasses:\n",
      " |      asyncgen_hooks\n",
      " |      UnraisableHookArgs\n",
      " |\n",
      " |  Methods defined here:\n",
      " |\n",
      " |  __add__(self, value, /)\n",
      " |      Return self+value.\n",
      " |\n",
      " |  __contains__(self, key, /)\n",
      " |      Return bool(key in self).\n",
      " |\n",
      " |  __eq__(self, value, /)\n",
      " |      Return self==value.\n",
      " |\n",
      " |  __ge__(self, value, /)\n",
      " |      Return self>=value.\n",
      " |\n",
      " |  __getattribute__(self, name, /)\n",
      " |      Return getattr(self, name).\n",
      " |\n",
      " |  __getitem__(self, key, /)\n",
      " |      Return self[key].\n",
      " |\n",
      " |  __getnewargs__(self, /)\n",
      " |\n",
      " |  __gt__(self, value, /)\n",
      " |      Return self>value.\n",
      " |\n",
      " |  __hash__(self, /)\n",
      " |      Return hash(self).\n",
      " |\n",
      " |  __iter__(self, /)\n",
      " |      Implement iter(self).\n",
      " |\n",
      " |  __le__(self, value, /)\n",
      " |      Return self<=value.\n",
      " |\n",
      " |  __len__(self, /)\n",
      " |      Return len(self).\n",
      " |\n",
      " |  __lt__(self, value, /)\n",
      " |      Return self<value.\n",
      " |\n",
      " |  __mul__(self, value, /)\n",
      " |      Return self*value.\n",
      " |\n",
      " |  __ne__(self, value, /)\n",
      " |      Return self!=value.\n",
      " |\n",
      " |  __repr__(self, /)\n",
      " |      Return repr(self).\n",
      " |\n",
      " |  __rmul__(self, value, /)\n",
      " |      Return value*self.\n",
      " |\n",
      " |  count(self, value, /)\n",
      " |      Return number of occurrences of value.\n",
      " |\n",
      " |  index(self, value, start=0, stop=9223372036854775807, /)\n",
      " |      Return first index of value.\n",
      " |\n",
      " |      Raises ValueError if the value is not present.\n",
      " |\n",
      " |  ----------------------------------------------------------------------\n",
      " |  Class methods defined here:\n",
      " |\n",
      " |  __class_getitem__(...) from builtins.type\n",
      " |      See PEP 585\n",
      " |\n",
      " |  ----------------------------------------------------------------------\n",
      " |  Static methods defined here:\n",
      " |\n",
      " |  __new__(*args, **kwargs) from builtins.type\n",
      " |      Create and return a new object.  See help(type) for accurate signature.\n",
      "\n"
     ]
    }
   ],
   "source": [
    "#tuple has two functions\n",
    "#1 count =no of \n",
    "#index\n",
    "help(mytuple)"
   ]
  },
  {
   "cell_type": "code",
   "execution_count": 1,
   "id": "7ac6e860-d761-4b78-8f49-a3af0834620f",
   "metadata": {},
   "outputs": [],
   "source": [
    "#dictionary\n",
    "#collection of elements in form of key and value\n",
    "#key : identifier\n",
    "#value : data\n",
    "# ordered collection of elements"
   ]
  },
  {
   "cell_type": "code",
   "execution_count": 3,
   "id": "5bd8a6c1-12a5-414a-8266-5e10a8f2920e",
   "metadata": {},
   "outputs": [
    {
     "name": "stdout",
     "output_type": "stream",
     "text": [
      "{10: 'Avneet', 3: 'abhishek'}\n"
     ]
    }
   ],
   "source": [
    "mydictionray={10:\"Avneet\",3:\"abhishek\"}\n",
    "print(mydictionray)"
   ]
  },
  {
   "cell_type": "code",
   "execution_count": 4,
   "id": "d87440bc-55d3-4aad-b431-f2492e3de550",
   "metadata": {},
   "outputs": [
    {
     "data": {
      "text/plain": [
       "'Avneet'"
      ]
     },
     "execution_count": 4,
     "metadata": {},
     "output_type": "execute_result"
    }
   ],
   "source": [
    "mydictionray[10]"
   ]
  },
  {
   "cell_type": "code",
   "execution_count": 5,
   "id": "bfc23e13-f114-4557-9435-7a68534d2304",
   "metadata": {},
   "outputs": [
    {
     "data": {
      "text/plain": [
       "'updated'"
      ]
     },
     "execution_count": 5,
     "metadata": {},
     "output_type": "execute_result"
    }
   ],
   "source": [
    "#update\n",
    "mydictionray[10]=\"updated\"\n",
    "mydictionray[10]"
   ]
  },
  {
   "cell_type": "code",
   "execution_count": 6,
   "id": "a8440d4f-0aa8-46f7-9373-ca67e2dbd2d0",
   "metadata": {},
   "outputs": [],
   "source": [
    "#insert\n",
    "mydictionray[30]=\"new value\""
   ]
  },
  {
   "cell_type": "code",
   "execution_count": 7,
   "id": "9cff046c-6a26-4279-8517-495c00fa2178",
   "metadata": {},
   "outputs": [
    {
     "data": {
      "text/plain": [
       "'new value'"
      ]
     },
     "execution_count": 7,
     "metadata": {},
     "output_type": "execute_result"
    }
   ],
   "source": [
    "mydictionray[30]"
   ]
  },
  {
   "cell_type": "code",
   "execution_count": 3,
   "id": "17c362f8-92cf-4b90-ba08-e0b36c28183f",
   "metadata": {},
   "outputs": [
    {
     "ename": "NameError",
     "evalue": "name 'mydictionray' is not defined",
     "output_type": "error",
     "traceback": [
      "\u001b[1;31m---------------------------------------------------------------------------\u001b[0m",
      "\u001b[1;31mNameError\u001b[0m                                 Traceback (most recent call last)",
      "Cell \u001b[1;32mIn[3], line 3\u001b[0m\n\u001b[0;32m      1\u001b[0m \u001b[38;5;66;03m#delete\u001b[39;00m\n\u001b[0;32m      2\u001b[0m \u001b[38;5;66;03m#pop=have to give key value\u001b[39;00m\n\u001b[1;32m----> 3\u001b[0m \u001b[43mmydictionray\u001b[49m\u001b[38;5;241m.\u001b[39mpop(\u001b[38;5;241m10\u001b[39m)\n",
      "\u001b[1;31mNameError\u001b[0m: name 'mydictionray' is not defined"
     ]
    }
   ],
   "source": [
    "#delete\n",
    "#pop=have to give key value\n",
    "\n",
    "mydictionray.pop(10)\n"
   ]
  },
  {
   "cell_type": "code",
   "execution_count": 4,
   "id": "99728200-e9ef-42b4-93fb-77dd56a1d0f0",
   "metadata": {},
   "outputs": [
    {
     "name": "stdout",
     "output_type": "stream",
     "text": [
      "{'h': 1, 'e': 1, 'l': 1, 'o': 1}\n"
     ]
    }
   ],
   "source": [
    "#\"helloo\"\n",
    "myd={}\n",
    "for i in \"hello\":\n",
    "    myd[i]=1\n",
    "print(myd)\n",
    "    \n"
   ]
  },
  {
   "cell_type": "code",
   "execution_count": 11,
   "id": "a106d921-884d-4609-bfa3-f5f25304d40d",
   "metadata": {},
   "outputs": [
    {
     "data": {
      "text/plain": [
       "False"
      ]
     },
     "execution_count": 11,
     "metadata": {},
     "output_type": "execute_result"
    }
   ],
   "source": [
    "myde={10:\"avneet\",20:\"new\"}\n",
    "20 in myd"
   ]
  },
  {
   "cell_type": "code",
   "execution_count": 16,
   "id": "0ac6581f-b390-4071-bd90-a34fcffa32ff",
   "metadata": {},
   "outputs": [
    {
     "name": "stdout",
     "output_type": "stream",
     "text": [
      "{'a': 1, 'e': 2, 'i': 0, 'o': 1, 'u': 1}\n"
     ]
    }
   ],
   "source": [
    "st=\"hey tushar hello\"\n",
    "d={'a':0,'e':0,'i':0,'o':0,'u':0}\n",
    "for i in st:\n",
    "    if(i in 'aeiou'):\n",
    "        d[i]+=1\n",
    "print(d)\n",
    "    "
   ]
  },
  {
   "cell_type": "code",
   "execution_count": 18,
   "id": "d893606a-b48a-44ad-a82b-78decc9fe71a",
   "metadata": {},
   "outputs": [
    {
     "name": "stdout",
     "output_type": "stream",
     "text": [
      "{'e': 2, 'u': 1, 'a': 1, 'o': 1}\n"
     ]
    }
   ],
   "source": [
    "mydis={}\n",
    "for char in st:\n",
    "    if(char in \"aeiou\"):\n",
    "        if char  not in mydis:\n",
    "            mydis[char]=1\n",
    "        else:\n",
    "            mydis[char]=mydis[char]+1\n",
    "print(mydis)"
   ]
  },
  {
   "cell_type": "code",
   "execution_count": null,
   "id": "3857c04a-ddee-450f-9e62-c96e26311cfc",
   "metadata": {},
   "outputs": [],
   "source": []
  }
 ],
 "metadata": {
  "kernelspec": {
   "display_name": "Python 3 (ipykernel)",
   "language": "python",
   "name": "python3"
  },
  "language_info": {
   "codemirror_mode": {
    "name": "ipython",
    "version": 3
   },
   "file_extension": ".py",
   "mimetype": "text/x-python",
   "name": "python",
   "nbconvert_exporter": "python",
   "pygments_lexer": "ipython3",
   "version": "3.12.0"
  }
 },
 "nbformat": 4,
 "nbformat_minor": 5
}
