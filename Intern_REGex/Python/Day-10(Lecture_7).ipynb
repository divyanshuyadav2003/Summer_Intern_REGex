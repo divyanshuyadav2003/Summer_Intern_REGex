{
 "cells": [
  {
   "cell_type": "code",
   "execution_count": 1,
   "id": "b0ba49e8",
   "metadata": {},
   "outputs": [],
   "source": [
    "# polymorphism\n",
    "# varialbe,operator,object"
   ]
  },
  {
   "cell_type": "code",
   "execution_count": 2,
   "id": "57c1c344",
   "metadata": {},
   "outputs": [
    {
     "data": {
      "text/plain": [
       "3"
      ]
     },
     "execution_count": 2,
     "metadata": {},
     "output_type": "execute_result"
    }
   ],
   "source": [
    "1+2"
   ]
  },
  {
   "cell_type": "code",
   "execution_count": 3,
   "id": "2615ebba",
   "metadata": {},
   "outputs": [
    {
     "data": {
      "text/plain": [
       "'12'"
      ]
     },
     "execution_count": 3,
     "metadata": {},
     "output_type": "execute_result"
    }
   ],
   "source": [
    "\"1\"+\"2\""
   ]
  },
  {
   "cell_type": "code",
   "execution_count": 5,
   "id": "e0619031",
   "metadata": {},
   "outputs": [
    {
     "name": "stdout",
     "output_type": "stream",
     "text": [
      "this tata motor\n"
     ]
    }
   ],
   "source": [
    "class vehcile:\n",
    "    def info(self):\n",
    "        print(\"this is a car\")\n",
    "        \n",
    "class tata(vehcile):\n",
    "    def info(self):\n",
    "        print(\"this tata motor\")\n",
    "        \n",
    "t1=tata()\n",
    "t1.info()"
   ]
  },
  {
   "cell_type": "code",
   "execution_count": 10,
   "id": "07dddfd8",
   "metadata": {},
   "outputs": [
    {
     "name": "stdout",
     "output_type": "stream",
     "text": [
      "employee class has value 10\n",
      "employee class has value 20\n"
     ]
    }
   ],
   "source": [
    "class employee:\n",
    "    def __init__(self,num1):\n",
    "        self.num1=num1\n",
    "        \n",
    "    def __repr__(self):\n",
    "        return f\"employee class has value {self.num1}\"\n",
    "        \n",
    "e1=employee(10)\n",
    "print(e1)\n",
    "\n",
    "e2=employee(20)\n",
    "print(e2)"
   ]
  },
  {
   "cell_type": "code",
   "execution_count": 11,
   "id": "39d22188",
   "metadata": {},
   "outputs": [
    {
     "name": "stdout",
     "output_type": "stream",
     "text": [
      "employee class has value 10\n",
      "employee class has value 20\n",
      "hello 20\n"
     ]
    }
   ],
   "source": [
    "class employee:\n",
    "    def __init__(self,num1):\n",
    "        self.num1=num1\n",
    "        \n",
    "    def __repr__(self):\n",
    "        return f\"employee class has value {self.num1}\"\n",
    "    \n",
    "    def __add__(x,y):\n",
    "        print(\"hello\",y.num1)\n",
    "        \n",
    "e1=employee(10)\n",
    "print(e1)\n",
    "\n",
    "e2=employee(20)\n",
    "print(e2)\n",
    "\n",
    "e1+e2"
   ]
  },
  {
   "cell_type": "code",
   "execution_count": 21,
   "id": "a49a0cc4",
   "metadata": {},
   "outputs": [
    {
     "name": "stdout",
     "output_type": "stream",
     "text": [
      "false\n"
     ]
    }
   ],
   "source": [
    "\"\"\"\n",
    "2 class ==> variable\n",
    "obj1>obj2(true ya false)\n",
    "obj1.num1 +obj1.num2 > obj2.num1(retun false else true)\n",
    "\"\"\"\n",
    "class one:\n",
    "    def __init__(self,num1,num2):\n",
    "        self.num1=num1\n",
    "        self.num2=num2\n",
    "        \n",
    "        \n",
    "    def __gt__(self,obj2):\n",
    "        if (self.num1+self.num2>obj2.num1):\n",
    "            print(\"false\")\n",
    "        else:\n",
    "            print(\"true\")\n",
    "            \n",
    "n1=one(10,20)\n",
    "n2=one(10,40)\n",
    "n1>n2"
   ]
  },
  {
   "cell_type": "code",
   "execution_count": null,
   "id": "c0e8bef1",
   "metadata": {},
   "outputs": [],
   "source": []
  }
 ],
 "metadata": {
  "kernelspec": {
   "display_name": "Python 3 (ipykernel)",
   "language": "python",
   "name": "python3"
  },
  "language_info": {
   "codemirror_mode": {
    "name": "ipython",
    "version": 3
   },
   "file_extension": ".py",
   "mimetype": "text/x-python",
   "name": "python",
   "nbconvert_exporter": "python",
   "pygments_lexer": "ipython3",
   "version": "3.11.4"
  }
 },
 "nbformat": 4,
 "nbformat_minor": 5
}
