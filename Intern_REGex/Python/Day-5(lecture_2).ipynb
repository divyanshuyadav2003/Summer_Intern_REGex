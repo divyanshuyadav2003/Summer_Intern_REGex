{
 "cells": [
  {
   "cell_type": "code",
   "execution_count": 2,
   "id": "7d6e7aad-73b2-4917-88b8-855ad48eccd0",
   "metadata": {},
   "outputs": [
    {
     "data": {
      "text/plain": [
       "'R'"
      ]
     },
     "execution_count": 2,
     "metadata": {},
     "output_type": "execute_result"
    }
   ],
   "source": [
    "#sring indexing\n",
    "state =\"Rajasthan\"\n",
    "state[0]"
   ]
  },
  {
   "cell_type": "code",
   "execution_count": 4,
   "id": "cd6b4840-ea07-4d8d-8a00-aaaae60557f0",
   "metadata": {},
   "outputs": [
    {
     "data": {
      "text/plain": [
       "'jast'"
      ]
     },
     "execution_count": 4,
     "metadata": {},
     "output_type": "execute_result"
    }
   ],
   "source": [
    "#extracting according to position\n",
    "#using (slicing opetator)\n",
    "#[start:stop:[step=1]]\n",
    "state=\"rajasthan\"\n",
    "state[2:6]\n",
    "\n"
   ]
  },
  {
   "cell_type": "code",
   "execution_count": 5,
   "id": "f711cb03-8d1d-4429-925e-4d4a2c1e511c",
   "metadata": {},
   "outputs": [
    {
     "data": {
      "text/plain": [
       "'asthan'"
      ]
     },
     "execution_count": 5,
     "metadata": {},
     "output_type": "execute_result"
    }
   ],
   "source": [
    "state[3:]\n"
   ]
  },
  {
   "cell_type": "code",
   "execution_count": 6,
   "id": "333bef28-dd70-41dd-bd4f-71588352272d",
   "metadata": {},
   "outputs": [
    {
     "data": {
      "text/plain": [
       "'raja'"
      ]
     },
     "execution_count": 6,
     "metadata": {},
     "output_type": "execute_result"
    }
   ],
   "source": [
    "state[:4]"
   ]
  },
  {
   "cell_type": "code",
   "execution_count": 7,
   "id": "79b25c36-0c3c-4579-b477-07ab264876d0",
   "metadata": {},
   "outputs": [
    {
     "data": {
      "text/plain": [
       "'raja'"
      ]
     },
     "execution_count": 7,
     "metadata": {},
     "output_type": "execute_result"
    }
   ],
   "source": [
    "state[0:4:1]"
   ]
  },
  {
   "cell_type": "code",
   "execution_count": 8,
   "id": "02a1e594-51ac-41e5-837c-b17e0e9521a0",
   "metadata": {},
   "outputs": [
    {
     "data": {
      "text/plain": [
       "'rj'"
      ]
     },
     "execution_count": 8,
     "metadata": {},
     "output_type": "execute_result"
    }
   ],
   "source": [
    "state[0:4:2]"
   ]
  },
  {
   "cell_type": "code",
   "execution_count": 9,
   "id": "758f9502-98f5-45a0-88f0-c82c3798b21e",
   "metadata": {},
   "outputs": [
    {
     "data": {
      "text/plain": [
       "''"
      ]
     },
     "execution_count": 9,
     "metadata": {},
     "output_type": "execute_result"
    }
   ],
   "source": [
    "state[0:4:-1]\n"
   ]
  },
  {
   "cell_type": "code",
   "execution_count": 10,
   "id": "73883047-38ea-45f4-b6d2-54305c099f23",
   "metadata": {},
   "outputs": [
    {
     "data": {
      "text/plain": [
       "''"
      ]
     },
     "execution_count": 10,
     "metadata": {},
     "output_type": "execute_result"
    }
   ],
   "source": [
    "state[-1:-4]"
   ]
  },
  {
   "cell_type": "code",
   "execution_count": 11,
   "id": "9222bc27-c710-4280-882b-b79686196c06",
   "metadata": {},
   "outputs": [
    {
     "data": {
      "text/plain": [
       "'nah'"
      ]
     },
     "execution_count": 11,
     "metadata": {},
     "output_type": "execute_result"
    }
   ],
   "source": [
    "state[-1:-4:-1]"
   ]
  },
  {
   "cell_type": "code",
   "execution_count": 12,
   "id": "832211f3-8c2b-44e0-ad36-4283679cb9d1",
   "metadata": {},
   "outputs": [],
   "source": [
    "#looping statement\n",
    "# for and while"
   ]
  },
  {
   "cell_type": "code",
   "execution_count": 15,
   "id": "85f2606d-1ede-4f8e-b3bf-700edddd9657",
   "metadata": {},
   "outputs": [
    {
     "name": "stdout",
     "output_type": "stream",
     "text": [
      "1\n",
      "2\n",
      "3\n",
      "4\n"
     ]
    }
   ],
   "source": [
    "#  for i in range(0,10)\n",
    "for i in range(1,5):\n",
    "    print(i)"
   ]
  },
  {
   "cell_type": "code",
   "execution_count": 16,
   "id": "4c2f4205-3a70-42e3-a756-596465b84a55",
   "metadata": {},
   "outputs": [
    {
     "name": "stdout",
     "output_type": "stream",
     "text": [
      "1\n",
      "4\n",
      "7\n"
     ]
    }
   ],
   "source": [
    "for i in range(1,8,3):\n",
    "    print(i)"
   ]
  },
  {
   "cell_type": "code",
   "execution_count": 17,
   "id": "43dcc0d7-4629-4043-aa53-a49f35050c82",
   "metadata": {},
   "outputs": [
    {
     "name": "stdout",
     "output_type": "stream",
     "text": [
      "70\n",
      "35\n"
     ]
    }
   ],
   "source": [
    "for i in range(97,18,-1):\n",
    "    if(i%5==0 and i%7==0):\n",
    "        print(i)\n",
    "        "
   ]
  },
  {
   "cell_type": "code",
   "execution_count": 18,
   "id": "6c8a02e8-4983-4082-b3c2-c18a779392e0",
   "metadata": {},
   "outputs": [
    {
     "name": "stdout",
     "output_type": "stream",
     "text": [
      "h\n",
      "e\n",
      "l\n",
      "l\n",
      "o\n"
     ]
    }
   ],
   "source": [
    "for i in \"hello\": \n",
    "    print(i)"
   ]
  },
  {
   "cell_type": "code",
   "execution_count": 19,
   "id": "7e08b6c2-88cc-4dc5-96f7-da42a023adde",
   "metadata": {},
   "outputs": [
    {
     "data": {
      "text/plain": [
       "5"
      ]
     },
     "execution_count": 19,
     "metadata": {},
     "output_type": "execute_result"
    }
   ],
   "source": [
    "data=\"hello\"\n",
    "len(data) #find lenght\n"
   ]
  },
  {
   "cell_type": "code",
   "execution_count": 20,
   "id": "8ade176c-501b-4eb8-90db-5969a79607ca",
   "metadata": {},
   "outputs": [
    {
     "name": "stdout",
     "output_type": "stream",
     "text": [
      "0\n",
      "1\n",
      "2\n",
      "3\n",
      "4\n"
     ]
    }
   ],
   "source": [
    " for index in range(0,5):\n",
    "     print(index)\n",
    "     "
   ]
  },
  {
   "cell_type": "code",
   "execution_count": 24,
   "id": "45d8f143-d050-4b6d-b9c6-097c49f249b8",
   "metadata": {},
   "outputs": [
    {
     "name": "stdout",
     "output_type": "stream",
     "text": [
      "h 0\n",
      "e 1\n",
      "l 2\n",
      "l 3\n",
      "o 4\n"
     ]
    }
   ],
   "source": [
    "for index in range(0,len(data)):\n",
    "    print(data[index],index)"
   ]
  },
  {
   "cell_type": "code",
   "execution_count": 30,
   "id": "d7acb224-79ea-4095-9db8-fa0c4744953c",
   "metadata": {},
   "outputs": [
    {
     "name": "stdout",
     "output_type": "stream",
     "text": [
      "5\n"
     ]
    }
   ],
   "source": [
    "count=0\n",
    "for i in \"hello\":\n",
    "    count+=1\n",
    "print(count)\n",
    "    "
   ]
  },
  {
   "cell_type": "code",
   "execution_count": 32,
   "id": "d7068231-13f2-40c2-a246-666429f8722f",
   "metadata": {},
   "outputs": [
    {
     "name": "stdout",
     "output_type": "stream",
     "text": [
      "2\n"
     ]
    }
   ],
   "source": [
    "#find no of vovels in a string\n",
    "count=0\n",
    "for i in \"hello\":\n",
    "    if(i=='a' or i=='e' or i=='o' or i=='u'or i=='i'):\n",
    "        count+=1\n",
    "print(count)"
   ]
  },
  {
   "cell_type": "code",
   "execution_count": 33,
   "id": "682efcdf-4530-4f01-b0ee-94efbb3922dc",
   "metadata": {},
   "outputs": [
    {
     "name": "stdout",
     "output_type": "stream",
     "text": [
      "3\n"
     ]
    }
   ],
   "source": [
    "total=0\n",
    "for i in \"hello hey\":\n",
    "    if(i in \"aeiou\"):\n",
    "        total+=1\n",
    "print (total)\n"
   ]
  },
  {
   "cell_type": "code",
   "execution_count": 35,
   "id": "2913963e-847c-4186-bf2d-3df819a8198a",
   "metadata": {},
   "outputs": [
    {
     "name": "stdout",
     "output_type": "stream",
     "text": [
      "6\n"
     ]
    }
   ],
   "source": [
    "#consonant\n",
    "total=0\n",
    "for i   in \"hello hey\":\n",
    "    if(i not in \"aeiou\"):\n",
    "        total+=1\n",
    "print (total)"
   ]
  },
  {
   "cell_type": "code",
   "execution_count": 37,
   "id": "7b0b0a3e-354d-45c9-95c8-3e415015b7ec",
   "metadata": {},
   "outputs": [
    {
     "name": "stdout",
     "output_type": "stream",
     "text": [
      "hello 1\n",
      "avneet\n",
      "avneet\n",
      "avneet\n",
      "avneet\n",
      "hello 2\n",
      "avneet\n",
      "avneet\n",
      "avneet\n",
      "avneet\n",
      "hello 3\n",
      "avneet\n",
      "avneet\n",
      "avneet\n",
      "avneet\n",
      "hello 4\n",
      "avneet\n",
      "avneet\n",
      "avneet\n",
      "avneet\n",
      "hello 5\n",
      "avneet\n",
      "avneet\n",
      "avneet\n",
      "avneet\n"
     ]
    }
   ],
   "source": [
    "#nested loop\n",
    "for i in range(1,6):\n",
    "    print(\"hello\",i)\n",
    "    for j  in range(1,5):\n",
    "        print(\"avneet\")\n",
    "        "
   ]
  },
  {
   "cell_type": "code",
   "execution_count": 45,
   "id": "94a4ae1e-932a-4d19-b26c-9be935e7dbd7",
   "metadata": {},
   "outputs": [
    {
     "name": "stdout",
     "output_type": "stream",
     "text": [
      "**** \n",
      "**** \n",
      "**** \n",
      "**** \n"
     ]
    }
   ],
   "source": [
    "''' ****\n",
    "    ****\n",
    "    ****\n",
    "    ****'''\n",
    "for i in range(0,4):\n",
    "    \n",
    "    for  j in range(0,4):\n",
    "        print(\"*\" ,end=\"\")\n",
    "    print(\" \")"
   ]
  },
  {
   "cell_type": "code",
   "execution_count": 51,
   "id": "594f4b82-0ce9-4502-9185-113299d9c697",
   "metadata": {},
   "outputs": [
    {
     "name": "stdout",
     "output_type": "stream",
     "text": [
      "1111\n",
      "2222\n",
      "3333\n",
      "4444\n",
      "5555\n"
     ]
    }
   ],
   "source": [
    "'''\n",
    "1111\n",
    "2222\n",
    "3333\n",
    "4444\n",
    "5555\n",
    "'''\n",
    "for i in range(1,6):\n",
    "    for j in range(1,5):\n",
    "        print(i,end=\"\")\n",
    "    print(\"\")"
   ]
  },
  {
   "cell_type": "code",
   "execution_count": 49,
   "id": "dfcb752a-679e-440c-ae50-ac4d12a6f356",
   "metadata": {},
   "outputs": [
    {
     "name": "stdout",
     "output_type": "stream",
     "text": [
      "12345\n",
      "12345\n",
      "12345\n",
      "12345\n",
      "12345\n"
     ]
    }
   ],
   "source": [
    "'''\n",
    "12345\n",
    "12345\n",
    "12345\n",
    "12345\n",
    "12345'''\n",
    "for i in range(1,6):\n",
    "    for j in range(1,6):\n",
    "        print(j,end=\"\")\n",
    "    print(\"\")\n",
    "    "
   ]
  },
  {
   "cell_type": "code",
   "execution_count": 50,
   "id": "2b6ef7bc-9149-42e8-9981-6719a6d24a29",
   "metadata": {},
   "outputs": [
    {
     "name": "stdout",
     "output_type": "stream",
     "text": [
      "54321\n",
      "54321\n",
      "54321\n",
      "54321\n",
      "54321\n"
     ]
    }
   ],
   "source": [
    "'''\n",
    "54321\n",
    "54321\n",
    "54321\n",
    "54321\n",
    "'''\n",
    "for i in range(1,6):\n",
    "    for j in range(5,0,-1):\n",
    "        print(j,end=\"\")\n",
    "    print(\"\")"
   ]
  },
  {
   "cell_type": "code",
   "execution_count": 53,
   "id": "db4f4d03-8e5b-4814-90aa-2a2d9f62db2e",
   "metadata": {},
   "outputs": [
    {
     "name": "stdout",
     "output_type": "stream",
     "text": [
      "*\n",
      "**\n",
      "***\n",
      "****\n"
     ]
    }
   ],
   "source": [
    "'''\n",
    "    *\n",
    "    * *\n",
    "    * * *\n",
    "    * * * *\n",
    "'''\n",
    "for i in range(1,5):\n",
    "    for j in range(0,i):\n",
    "        print(\"*\", end=\"\")\n",
    "    print(\"\")"
   ]
  },
  {
   "cell_type": "code",
   "execution_count": 54,
   "id": "fa2103b3-8e51-49b2-bd5a-dcb82642d0e0",
   "metadata": {},
   "outputs": [
    {
     "name": "stdout",
     "output_type": "stream",
     "text": [
      "****\n",
      "***\n",
      "**\n",
      "*\n"
     ]
    }
   ],
   "source": [
    "'''\n",
    "****\n",
    "***\n",
    "**\n",
    "*\n",
    "'''\n",
    "for i in range(4,0,-1):\n",
    "    for j in range(0,i):\n",
    "        print(\"*\",end=\"\")\n",
    "    print(\"\")\n",
    "\n"
   ]
  },
  {
   "cell_type": "code",
   "execution_count": null,
   "id": "b63f9b21-a0ec-443a-a4fa-9b89533630d6",
   "metadata": {},
   "outputs": [],
   "source": []
  }
 ],
 "metadata": {
  "kernelspec": {
   "display_name": "Python 3 (ipykernel)",
   "language": "python",
   "name": "python3"
  },
  "language_info": {
   "codemirror_mode": {
    "name": "ipython",
    "version": 3
   },
   "file_extension": ".py",
   "mimetype": "text/x-python",
   "name": "python",
   "nbconvert_exporter": "python",
   "pygments_lexer": "ipython3",
   "version": "3.12.0"
  }
 },
 "nbformat": 4,
 "nbformat_minor": 5
}
