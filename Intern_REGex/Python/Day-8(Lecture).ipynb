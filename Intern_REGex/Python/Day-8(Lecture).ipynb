{
 "cells": [
  {
   "cell_type": "code",
   "execution_count": 1,
   "id": "7f35ade2",
   "metadata": {},
   "outputs": [],
   "source": [
    "#lambda function"
   ]
  },
  {
   "cell_type": "code",
   "execution_count": 2,
   "id": "405a0964",
   "metadata": {},
   "outputs": [],
   "source": [
    "# annoymous function\n",
    "# name(gumnam)\n",
    "# lambda se start\n",
    "# lambda"
   ]
  },
  {
   "cell_type": "code",
   "execution_count": 4,
   "id": "3ea3e8d3",
   "metadata": {},
   "outputs": [
    {
     "data": {
      "text/plain": [
       "15"
      ]
     },
     "execution_count": 4,
     "metadata": {},
     "output_type": "execute_result"
    }
   ],
   "source": [
    "def func(x):\n",
    "    return x+10\n",
    "x=func\n",
    "func(5)"
   ]
  },
  {
   "cell_type": "code",
   "execution_count": 5,
   "id": "3989692f",
   "metadata": {},
   "outputs": [
    {
     "data": {
      "text/plain": [
       "15"
      ]
     },
     "execution_count": 5,
     "metadata": {},
     "output_type": "execute_result"
    }
   ],
   "source": [
    "out=lambda x:x+10\n",
    "\n",
    "out(5)"
   ]
  },
  {
   "cell_type": "code",
   "execution_count": 6,
   "id": "e9248d3f",
   "metadata": {},
   "outputs": [
    {
     "data": {
      "text/plain": [
       "[2500, 400, 1600, 100, 900]"
      ]
     },
     "execution_count": 6,
     "metadata": {},
     "output_type": "execute_result"
    }
   ],
   "source": [
    "# map filter,reduce\n",
    "# map(fun,iterable<list>)\n",
    "\n",
    "def square(x):\n",
    "    return x*x\n",
    "\n",
    "mylist={10,20,30,40,50}\n",
    "\n",
    "list(map(square,mylist))"
   ]
  },
  {
   "cell_type": "code",
   "execution_count": 7,
   "id": "352f14a8",
   "metadata": {},
   "outputs": [
    {
     "data": {
      "text/plain": [
       "[2500, 400, 1600, 100, 900]"
      ]
     },
     "execution_count": 7,
     "metadata": {},
     "output_type": "execute_result"
    }
   ],
   "source": [
    "\n",
    "mylist={10,20,30,40,50}\n",
    "\n",
    "list(map(lambda x:x*x,mylist))"
   ]
  },
  {
   "cell_type": "code",
   "execution_count": 9,
   "id": "e8926ec1",
   "metadata": {},
   "outputs": [
    {
     "data": {
      "text/plain": [
       "[11, 13, 31]"
      ]
     },
     "execution_count": 9,
     "metadata": {},
     "output_type": "execute_result"
    }
   ],
   "source": [
    "\n",
    "mylist={10,20,30,40,50,11,31,32,13}\n",
    "\n",
    "list(filter(lambda x:x%2!=0,mylist))"
   ]
  },
  {
   "cell_type": "code",
   "execution_count": 16,
   "id": "683f0674",
   "metadata": {},
   "outputs": [],
   "source": [
    "# file handing:-\n",
    "# open\n",
    "# read/write\n",
    "# close\n",
    "\n",
    "fileobj=open(\"regex.txt\")\n",
    "x=fileobj.read()\n",
    "fileobj.close()"
   ]
  },
  {
   "cell_type": "code",
   "execution_count": 17,
   "id": "efe53b55",
   "metadata": {},
   "outputs": [
    {
     "name": "stdout",
     "output_type": "stream",
     "text": [
      "hii my name is divyanshu yadav\n"
     ]
    }
   ],
   "source": [
    "print(x)"
   ]
  },
  {
   "cell_type": "code",
   "execution_count": 18,
   "id": "ad57824a",
   "metadata": {},
   "outputs": [
    {
     "ename": "UnsupportedOperation",
     "evalue": "not writable",
     "output_type": "error",
     "traceback": [
      "\u001b[1;31m---------------------------------------------------------------------------\u001b[0m",
      "\u001b[1;31mUnsupportedOperation\u001b[0m                      Traceback (most recent call last)",
      "Cell \u001b[1;32mIn[18], line 3\u001b[0m\n\u001b[0;32m      1\u001b[0m fileobj\u001b[38;5;241m=\u001b[39m\u001b[38;5;28mopen\u001b[39m(\u001b[38;5;124m\"\u001b[39m\u001b[38;5;124mregex.txt\u001b[39m\u001b[38;5;124m\"\u001b[39m)\n\u001b[0;32m      2\u001b[0m x\u001b[38;5;241m=\u001b[39mfileobj\u001b[38;5;241m.\u001b[39mread()\n\u001b[1;32m----> 3\u001b[0m fileobj\u001b[38;5;241m.\u001b[39mwrite(\u001b[38;5;124m\"\u001b[39m\u001b[38;5;124mjatin\u001b[39m\u001b[38;5;124m\"\u001b[39m)\n\u001b[0;32m      4\u001b[0m fileobj\u001b[38;5;241m.\u001b[39mclose()\n",
      "\u001b[1;31mUnsupportedOperation\u001b[0m: not writable"
     ]
    }
   ],
   "source": [
    "fileobj=open(\"regex.txt\")\n",
    "x=fileobj.read()\n",
    "fileobj.write(\"jatin\")\n",
    "fileobj.close()"
   ]
  },
  {
   "cell_type": "code",
   "execution_count": 19,
   "id": "921c457f",
   "metadata": {},
   "outputs": [],
   "source": [
    "fileobj=open(\"regex.txt\",\"r+\")\n",
    "\n",
    "x=fileobj.read()\n",
    "fileobj.write(\"jatin\")\n",
    "fileobj.close()"
   ]
  },
  {
   "cell_type": "code",
   "execution_count": 20,
   "id": "ba61e5d6",
   "metadata": {},
   "outputs": [
    {
     "name": "stdout",
     "output_type": "stream",
     "text": [
      "hii my name is divyanshu yadav\n"
     ]
    }
   ],
   "source": [
    "print(x)"
   ]
  },
  {
   "cell_type": "code",
   "execution_count": 23,
   "id": "a215b6d6",
   "metadata": {},
   "outputs": [],
   "source": [
    "fileobj=open(\"regex.txt\",\"w+\")\n",
    "\n",
    "fileobj.write(\"jatin\")\n",
    "x=fileobj.read()\n",
    "fileobj.close()"
   ]
  },
  {
   "cell_type": "code",
   "execution_count": 24,
   "id": "b813c5ea",
   "metadata": {},
   "outputs": [
    {
     "name": "stdout",
     "output_type": "stream",
     "text": [
      "\n"
     ]
    }
   ],
   "source": [
    "print(x)"
   ]
  },
  {
   "cell_type": "code",
   "execution_count": 25,
   "id": "0faaf73a",
   "metadata": {},
   "outputs": [
    {
     "name": "stdout",
     "output_type": "stream",
     "text": [
      "0\n",
      "after write  5\n",
      "\n"
     ]
    }
   ],
   "source": [
    "fileobj=open(\"regex.txt\",\"w+\")\n",
    "\n",
    "print(fileobj.tell())\n",
    "\n",
    "fileobj.write(\"jatin\")\n",
    "\n",
    "print(\"after write \",fileobj.tell())\n",
    "\n",
    "x=fileobj.read()\n",
    "fileobj.close()\n",
    "\n",
    "print(x)"
   ]
  },
  {
   "cell_type": "code",
   "execution_count": 35,
   "id": "1d1217b3",
   "metadata": {},
   "outputs": [
    {
     "name": "stdout",
     "output_type": "stream",
     "text": [
      "0\n",
      "after write  2\n",
      "tin\n"
     ]
    }
   ],
   "source": [
    "fileobj=open(\"regex.txt\",\"w+\")\n",
    "\n",
    "print(fileobj.tell())\n",
    "\n",
    "fileobj.write(\"jatin\")\n",
    "\n",
    "fileobj.seek(2)\n",
    "\n",
    "print(\"after write \",fileobj.tell())\n",
    "\n",
    "x=fileobj.read()\n",
    "fileobj.close()\n",
    "\n",
    "print(x)"
   ]
  },
  {
   "cell_type": "code",
   "execution_count": 43,
   "id": "91dbefc6",
   "metadata": {},
   "outputs": [
    {
     "name": "stdout",
     "output_type": "stream",
     "text": [
      "0\n",
      "\n"
     ]
    }
   ],
   "source": [
    "fileobj=open(\"regex.txt\",\"w+\")\n",
    "\n",
    "print(fileobj.tell())\n",
    "\n",
    "fileobj.write(\"jatin\")\n",
    "\n",
    "fileobj.seek(2)\n",
    "fileobj=open(\"regex.txt\",\"w+\")\n",
    "\n",
    "x=fileobj.read()\n",
    "fileobj.close()\n",
    "\n",
    "print(x)"
   ]
  },
  {
   "cell_type": "code",
   "execution_count": 47,
   "id": "5f7d73a9",
   "metadata": {},
   "outputs": [
    {
     "name": "stdout",
     "output_type": "stream",
     "text": [
      "['1,jatin,100\\n', '2,dulesh,200\\n', '3,chirag,300']\n"
     ]
    }
   ],
   "source": [
    "# using with keyword\n",
    "\n",
    "with open(\"regex.txt\",\"r\") as fileobj:\n",
    "    print(fileobj.readlines())\n",
    "    \n"
   ]
  },
  {
   "cell_type": "code",
   "execution_count": 44,
   "id": "1f84a96b",
   "metadata": {},
   "outputs": [
    {
     "name": "stdout",
     "output_type": "stream",
     "text": [
      "1,jatin,100\n",
      "2,dulesh,200\n",
      "3,chirag,300\n"
     ]
    }
   ],
   "source": [
    "with open(\"regex.txt\",\"r\") as fileobj:\n",
    "    for line in fileobj.readlines():\n",
    "        print(line.strip())"
   ]
  },
  {
   "cell_type": "code",
   "execution_count": 45,
   "id": "4146dadc",
   "metadata": {},
   "outputs": [
    {
     "name": "stdout",
     "output_type": "stream",
     "text": [
      "['1', 'jatin', '100']\n",
      "['2', 'dulesh', '200']\n",
      "['3', 'chirag', '300']\n"
     ]
    }
   ],
   "source": [
    "import csv\n",
    "fileo=open(\"regex.txt\")\n",
    "f=csv.reader(fileo)\n",
    "\n",
    "for i in f:\n",
    "    print(i)"
   ]
  },
  {
   "cell_type": "code",
   "execution_count": 51,
   "id": "43e93f1b",
   "metadata": {},
   "outputs": [
    {
     "name": "stdout",
     "output_type": "stream",
     "text": [
      "1 jatin 100\n",
      "2 dulesh 200\n",
      "3 chirag 300\n"
     ]
    }
   ],
   "source": [
    "import csv\n",
    "fileo=open(\"regex.txt\")\n",
    "f=csv.reader(fileo)\n",
    "\n",
    "for i in f:\n",
    "    id,name,salary=i\n",
    "    print(id,name,salary)"
   ]
  },
  {
   "cell_type": "code",
   "execution_count": 53,
   "id": "a8c8f864",
   "metadata": {},
   "outputs": [
    {
     "name": "stdout",
     "output_type": "stream",
     "text": [
      "hello\n"
     ]
    },
    {
     "ename": "NameError",
     "evalue": "name 'o' is not defined",
     "output_type": "error",
     "traceback": [
      "\u001b[1;31m---------------------------------------------------------------------------\u001b[0m",
      "\u001b[1;31mNameError\u001b[0m                                 Traceback (most recent call last)",
      "Cell \u001b[1;32mIn[53], line 5\u001b[0m\n\u001b[0;32m      3\u001b[0m \u001b[38;5;28mprint\u001b[39m(\u001b[38;5;124m\"\u001b[39m\u001b[38;5;124mhello\u001b[39m\u001b[38;5;124m\"\u001b[39m)\n\u001b[0;32m      4\u001b[0m x\u001b[38;5;241m=\u001b[39m\u001b[38;5;241m10\u001b[39m\n\u001b[1;32m----> 5\u001b[0m x\u001b[38;5;241m/\u001b[39mo\n\u001b[0;32m      6\u001b[0m \u001b[38;5;28mprint\u001b[39m(\u001b[38;5;124m\"\u001b[39m\u001b[38;5;124mhey\u001b[39m\u001b[38;5;124m\"\u001b[39m)\n",
      "\u001b[1;31mNameError\u001b[0m: name 'o' is not defined"
     ]
    }
   ],
   "source": [
    "# exception handling\n",
    "# try  except\n",
    "print(\"hello\")\n",
    "x=10\n",
    "x/o\n",
    "print(\"hey\")"
   ]
  },
  {
   "cell_type": "code",
   "execution_count": 66,
   "id": "ad619798",
   "metadata": {},
   "outputs": [
    {
     "name": "stdout",
     "output_type": "stream",
     "text": [
      "hello\n"
     ]
    },
    {
     "ename": "NameError",
     "evalue": "name 'Name' is not defined",
     "output_type": "error",
     "traceback": [
      "\u001b[1;31m---------------------------------------------------------------------------\u001b[0m",
      "\u001b[1;31mZeroDivisionError\u001b[0m                         Traceback (most recent call last)",
      "Cell \u001b[1;32mIn[66], line 4\u001b[0m\n\u001b[0;32m      3\u001b[0m x\u001b[38;5;241m=\u001b[39m\u001b[38;5;241m10\u001b[39m\n\u001b[1;32m----> 4\u001b[0m x\u001b[38;5;241m/\u001b[39m\u001b[38;5;241m0\u001b[39m\n\u001b[0;32m      5\u001b[0m \u001b[38;5;28mprint\u001b[39m(\u001b[38;5;124m\"\u001b[39m\u001b[38;5;124mhey\u001b[39m\u001b[38;5;124m\"\u001b[39m)\n",
      "\u001b[1;31mZeroDivisionError\u001b[0m: division by zero",
      "\nDuring handling of the above exception, another exception occurred:\n",
      "\u001b[1;31mNameError\u001b[0m                                 Traceback (most recent call last)",
      "Cell \u001b[1;32mIn[66], line 6\u001b[0m\n\u001b[0;32m      4\u001b[0m     x\u001b[38;5;241m/\u001b[39m\u001b[38;5;241m0\u001b[39m\n\u001b[0;32m      5\u001b[0m     \u001b[38;5;28mprint\u001b[39m(\u001b[38;5;124m\"\u001b[39m\u001b[38;5;124mhey\u001b[39m\u001b[38;5;124m\"\u001b[39m)\n\u001b[1;32m----> 6\u001b[0m \u001b[38;5;28;01mexcept\u001b[39;00m (\u001b[38;5;167;01mZeroDivisionError\u001b[39;00m,Name) \u001b[38;5;28;01mas\u001b[39;00m z:\n\u001b[0;32m      7\u001b[0m     \u001b[38;5;28mprint\u001b[39m(\u001b[38;5;124m\"\u001b[39m\u001b[38;5;124merror handed :\u001b[39m\u001b[38;5;124m\"\u001b[39m,z)\n",
      "\u001b[1;31mNameError\u001b[0m: name 'Name' is not defined"
     ]
    }
   ],
   "source": [
    "try:\n",
    "    print(\"hello\")\n",
    "    x=10\n",
    "    x/0\n",
    "    print(\"hey\")\n",
    "except (ZeroDivisionError,Name) as z:\n",
    "    print(\"error handed :\",z)"
   ]
  },
  {
   "cell_type": "code",
   "execution_count": 65,
   "id": "a2acbb0d",
   "metadata": {},
   "outputs": [
    {
     "name": "stdout",
     "output_type": "stream",
     "text": [
      "hello\n",
      "string index out of range  : error ocuring\n"
     ]
    }
   ],
   "source": [
    "try:\n",
    "    print(\"hello\")\n",
    "    x=\"tushar\"\n",
    "    x[10]\n",
    "    x/num\n",
    "    print(\"hey\")\n",
    "except (ZeroDivisionError,NameError) as z:\n",
    "    print(\"error handed :\",z)\n",
    "except Exception as e:\n",
    "    print(e,\" : error ocuring\")"
   ]
  },
  {
   "cell_type": "code",
   "execution_count": 67,
   "id": "d8dd44e2",
   "metadata": {},
   "outputs": [
    {
     "name": "stdout",
     "output_type": "stream",
     "text": [
      "hello\n",
      "divide it by num\n",
      "hey\n"
     ]
    }
   ],
   "source": [
    "try:\n",
    "    print(\"hello\")\n",
    "    x=\"tushar\"\n",
    "    try:\n",
    "        x/num\n",
    "    except:\n",
    "        print(\"divide it by num\")\n",
    "    print(\"hey\")\n",
    "except (ZeroDivisionError,NameError) as z:\n",
    "    print(\"error handed :\",z)\n",
    "except Exception as e:\n",
    "    print(e,\" : error ocuring\")"
   ]
  },
  {
   "cell_type": "code",
   "execution_count": 70,
   "id": "e729e2e4",
   "metadata": {},
   "outputs": [
    {
     "name": "stdout",
     "output_type": "stream",
     "text": [
      "hello\n",
      "error nhi h try mein\n"
     ]
    }
   ],
   "source": [
    "try:\n",
    "    print(\"hello\")\n",
    "    x=10\n",
    "    x/10\n",
    "except Exception as e:\n",
    "    print(e,\" : error ocuring\")\n",
    "else:\n",
    "    print(\"error nhi h try mein\")"
   ]
  },
  {
   "cell_type": "code",
   "execution_count": 72,
   "id": "d18678f3",
   "metadata": {},
   "outputs": [
    {
     "name": "stdout",
     "output_type": "stream",
     "text": [
      "hello\n",
      "division by zero  : error ocuring\n",
      "error hoi ya nhi ho\n"
     ]
    }
   ],
   "source": [
    "try:\n",
    "    print(\"hello\")\n",
    "    x=10\n",
    "    x/0\n",
    "except Exception as e:\n",
    "    print(e,\" : error ocuring\")\n",
    "finally:\n",
    "    print(\"error hoi ya nhi ho\")"
   ]
  },
  {
   "cell_type": "code",
   "execution_count": null,
   "id": "65de0f91",
   "metadata": {},
   "outputs": [],
   "source": []
  }
 ],
 "metadata": {
  "kernelspec": {
   "display_name": "Python 3 (ipykernel)",
   "language": "python",
   "name": "python3"
  },
  "language_info": {
   "codemirror_mode": {
    "name": "ipython",
    "version": 3
   },
   "file_extension": ".py",
   "mimetype": "text/x-python",
   "name": "python",
   "nbconvert_exporter": "python",
   "pygments_lexer": "ipython3",
   "version": "3.11.4"
  }
 },
 "nbformat": 4,
 "nbformat_minor": 5
}
