{
 "cells": [
  {
   "cell_type": "code",
   "execution_count": 2,
   "id": "66e10f5e",
   "metadata": {},
   "outputs": [],
   "source": [
    "#function\n",
    "#block of code => reuse\n",
    "\n",
    "\n"
   ]
  },
  {
   "cell_type": "code",
   "execution_count": 3,
   "id": "485fa9b7",
   "metadata": {},
   "outputs": [
    {
     "data": {
      "text/plain": [
       "'\\ndef func():\\n    statement\\n'"
      ]
     },
     "execution_count": 3,
     "metadata": {},
     "output_type": "execute_result"
    }
   ],
   "source": [
    "'''\n",
    "def func():\n",
    "    statement\n",
    "'''"
   ]
  },
  {
   "cell_type": "code",
   "execution_count": 7,
   "id": "9eded39b",
   "metadata": {},
   "outputs": [],
   "source": [
    "# x is vaiable\n",
    "def msg(x):\n",
    "    print(\"hey\",x)"
   ]
  },
  {
   "cell_type": "code",
   "execution_count": 9,
   "id": "cf474d53",
   "metadata": {},
   "outputs": [
    {
     "name": "stdout",
     "output_type": "stream",
     "text": [
      "hey divyanshu\n"
     ]
    }
   ],
   "source": [
    "# \"divyanshu\" => argument\n",
    "msg(\"divyanshu\")"
   ]
  },
  {
   "cell_type": "code",
   "execution_count": 10,
   "id": "828ce4a1",
   "metadata": {},
   "outputs": [
    {
     "name": "stdout",
     "output_type": "stream",
     "text": [
      "hey 1000\n"
     ]
    }
   ],
   "source": [
    "msg(1000)"
   ]
  },
  {
   "cell_type": "code",
   "execution_count": 11,
   "id": "dee81b60",
   "metadata": {},
   "outputs": [
    {
     "name": "stdout",
     "output_type": "stream",
     "text": [
      "x and y : 10 20\n",
      "out =  30\n"
     ]
    }
   ],
   "source": [
    "def msg(x,y):\n",
    "    print(\"x and y :\",x,y)\n",
    "    return x+y\n",
    "out=msg(10,20)\n",
    "print(\"out = \",out)"
   ]
  },
  {
   "cell_type": "code",
   "execution_count": 14,
   "id": "6b67e2c3",
   "metadata": {},
   "outputs": [
    {
     "name": "stdout",
     "output_type": "stream",
     "text": [
      "10\n"
     ]
    }
   ],
   "source": [
    "def func(x):\n",
    "    x=x+5\n",
    "    \n",
    "x=10\n",
    "print(x)"
   ]
  },
  {
   "cell_type": "code",
   "execution_count": 13,
   "id": "0c33aaa3",
   "metadata": {},
   "outputs": [
    {
     "name": "stdout",
     "output_type": "stream",
     "text": [
      "['aman', 20]\n"
     ]
    }
   ],
   "source": [
    "def func(x):\n",
    "    print(x,id(x))\n",
    "    \n",
    "mylist=[10,20]\n",
    "func(mylist)\n",
    "print(mylist)"
   ]
  },
  {
   "cell_type": "code",
   "execution_count": 15,
   "id": "5d2e0c8f",
   "metadata": {},
   "outputs": [
    {
     "name": "stdout",
     "output_type": "stream",
     "text": [
      "['aman', 20]\n"
     ]
    }
   ],
   "source": [
    "def func(x):\n",
    "    x[0]=\"aman\"\n",
    "    \n",
    "mylist=[10,20]\n",
    "func(mylist)\n",
    "print(mylist)"
   ]
  },
  {
   "cell_type": "code",
   "execution_count": 16,
   "id": "083ff5e8",
   "metadata": {},
   "outputs": [
    {
     "name": "stdout",
     "output_type": "stream",
     "text": [
      "average\n"
     ]
    }
   ],
   "source": [
    "def func(a,b,c):\n",
    "    if(a>b and a>c):\n",
    "        print(\"excelent\")\n",
    "    elif(b>a and b>c):\n",
    "        print(\"good\")\n",
    "    elif(c>a and c>a):\n",
    "        print(\"average\")\n",
    "\n",
    "func(19,2,45)"
   ]
  },
  {
   "cell_type": "code",
   "execution_count": 4,
   "id": "2ab84c22",
   "metadata": {},
   "outputs": [
    {
     "name": "stdout",
     "output_type": "stream",
     "text": [
      "Greater and smaller no = 9 2\n",
      "lcm= 10\n"
     ]
    }
   ],
   "source": [
    "def lcm(x,y):\n",
    "    if(x>y):\n",
    "        great=x\n",
    "        small=y\n",
    "        print(\"Greater and smaller no =\",great,small)\n",
    "    else:\n",
    "        great=y\n",
    "        small=x\n",
    "        print(\"Greater and smaller no =\",great,small)\n",
    "    while(True):\n",
    "        if (great%small==0):\n",
    "            print(\"lcm=\",great)\n",
    "            return\n",
    "        else:\n",
    "            great+=1\n",
    "        \n",
    "lcm(2,9)\n",
    "    \n"
   ]
  },
  {
   "cell_type": "code",
   "execution_count": 6,
   "id": "64986418",
   "metadata": {},
   "outputs": [
    {
     "name": "stdout",
     "output_type": "stream",
     "text": [
      "Eid is :,5 \n",
      " Ename is : ram \n",
      " Email is :ram@gmail.com\n"
     ]
    }
   ],
   "source": [
    "#type of arguments\n",
    "def employee(eid,ename,email):\n",
    "    print(f\"Eid is :,{eid} \\n Ename is : {ename} \\n Email is :{email}\")\n",
    "    \n",
    "employee(5,\"ram\",\"ram@gmail.com\")"
   ]
  },
  {
   "cell_type": "code",
   "execution_count": 7,
   "id": "b7d71500",
   "metadata": {},
   "outputs": [
    {
     "ename": "TypeError",
     "evalue": "employee() missing 1 required positional argument: 'email'",
     "output_type": "error",
     "traceback": [
      "\u001b[1;31m---------------------------------------------------------------------------\u001b[0m",
      "\u001b[1;31mTypeError\u001b[0m                                 Traceback (most recent call last)",
      "Cell \u001b[1;32mIn[7], line 4\u001b[0m\n\u001b[0;32m      1\u001b[0m \u001b[38;5;28;01mdef\u001b[39;00m \u001b[38;5;21memployee\u001b[39m(eid,ename,email):\n\u001b[0;32m      2\u001b[0m     \u001b[38;5;28mprint\u001b[39m(\u001b[38;5;124mf\u001b[39m\u001b[38;5;124m\"\u001b[39m\u001b[38;5;124mEid is :,\u001b[39m\u001b[38;5;132;01m{\u001b[39;00meid\u001b[38;5;132;01m}\u001b[39;00m\u001b[38;5;124m \u001b[39m\u001b[38;5;130;01m\\n\u001b[39;00m\u001b[38;5;124m Ename is : \u001b[39m\u001b[38;5;132;01m{\u001b[39;00mename\u001b[38;5;132;01m}\u001b[39;00m\u001b[38;5;124m \u001b[39m\u001b[38;5;130;01m\\n\u001b[39;00m\u001b[38;5;124m Email is :\u001b[39m\u001b[38;5;132;01m{\u001b[39;00memail\u001b[38;5;132;01m}\u001b[39;00m\u001b[38;5;124m\"\u001b[39m)\n\u001b[1;32m----> 4\u001b[0m employee(\u001b[38;5;241m5\u001b[39m,\u001b[38;5;124m\"\u001b[39m\u001b[38;5;124mram\u001b[39m\u001b[38;5;124m\"\u001b[39m)\n",
      "\u001b[1;31mTypeError\u001b[0m: employee() missing 1 required positional argument: 'email'"
     ]
    }
   ],
   "source": [
    "# required argument\n",
    "def employee(eid,ename,email):\n",
    "    print(f\"Eid is :,{eid} \\n Ename is : {ename} \\n Email is :{email}\")\n",
    "    \n",
    "employee(5,\"ram\")"
   ]
  },
  {
   "cell_type": "code",
   "execution_count": 8,
   "id": "4525a3f1",
   "metadata": {},
   "outputs": [
    {
     "name": "stdout",
     "output_type": "stream",
     "text": [
      "Eid is :,ram \n",
      " Ename is : ram@gmail.com \n",
      " Email is :90\n"
     ]
    }
   ],
   "source": [
    "# positional argument\n",
    "def employee(eid,ename,email):\n",
    "    print(f\"Eid is :,{eid} \\n Ename is : {ename} \\n Email is :{email}\")\n",
    "    \n",
    "employee(\"ram\",\"ram@gmail.com\",90)"
   ]
  },
  {
   "cell_type": "code",
   "execution_count": 11,
   "id": "a65a6706",
   "metadata": {},
   "outputs": [
    {
     "name": "stdout",
     "output_type": "stream",
     "text": [
      "Eid is :,90 \n",
      " Ename is : ram \n",
      " Email is :ram@gmail.com\n"
     ]
    }
   ],
   "source": [
    "# keyword argument\n",
    "def employee(eid,ename,email):\n",
    "    print(f\"Eid is :,{eid} \\n Ename is : {ename} \\n Email is :{email}\")\n",
    "    \n",
    "employee(ename=\"ram\",email=\"ram@gmail.com\",eid=90)"
   ]
  },
  {
   "cell_type": "code",
   "execution_count": 13,
   "id": "b5f43c8c",
   "metadata": {},
   "outputs": [
    {
     "name": "stdout",
     "output_type": "stream",
     "text": [
      "Eid is :,90 \n",
      " Ename is : ram \n",
      " Email is :r@gmail.com\n",
      "Eid is :,90 \n",
      " Ename is : ram \n",
      " Email is :ram@gmail.com\n"
     ]
    }
   ],
   "source": [
    "# default argument\n",
    "def employee(eid,ename,email=\"r@gmail.com\"):\n",
    "    print(f\"Eid is :,{eid} \\n Ename is : {ename} \\n Email is :{email}\")\n",
    "    \n",
    "employee(90,\"ram\")\n",
    "employee(90,\"ram\",\"ram@gmail.com\")"
   ]
  },
  {
   "cell_type": "code",
   "execution_count": 14,
   "id": "5c59512b",
   "metadata": {},
   "outputs": [
    {
     "name": "stdout",
     "output_type": "stream",
     "text": [
      "('a@gmail.com', 'ram', 100) <class 'tuple'>\n",
      "('ram', 'a@gmail.com', 10) <class 'tuple'>\n",
      "('ansh', 'ram') <class 'tuple'>\n"
     ]
    }
   ],
   "source": [
    "# variable length  argument\n",
    "# args\n",
    "def facebook(*data):\n",
    "    print(data,type(data))\n",
    "    \n",
    "facebook(\"a@gmail.com\",\"ram\",100)\n",
    "facebook(\"ram\",\"a@gmail.com\",10)\n",
    "facebook(\"ansh\",\"ram\")"
   ]
  },
  {
   "cell_type": "code",
   "execution_count": 15,
   "id": "80dec602",
   "metadata": {},
   "outputs": [
    {
     "name": "stdout",
     "output_type": "stream",
     "text": [
      "{'sername': 'a@gmail.com', 'name': 'ram', 'salary': 100} <class 'dict'>\n"
     ]
    }
   ],
   "source": [
    "# keyword variable length argument\n",
    "# kwargs\n",
    "def facebook(**data):\n",
    "    print(data,type(data))\n",
    "    \n",
    "facebook(sername=\"a@gmail.com\",name=\"ram\",salary=100)"
   ]
  },
  {
   "cell_type": "code",
   "execution_count": 16,
   "id": "8d2cbafa",
   "metadata": {},
   "outputs": [],
   "source": [
    "# difference b/w kwargs and args\n"
   ]
  },
  {
   "cell_type": "code",
   "execution_count": 17,
   "id": "1f36b68a",
   "metadata": {},
   "outputs": [],
   "source": [
    "# high order function \n",
    "# which take another function as a argument"
   ]
  },
  {
   "cell_type": "code",
   "execution_count": 18,
   "id": "14ec18d6",
   "metadata": {},
   "outputs": [
    {
     "name": "stdout",
     "output_type": "stream",
     "text": [
      "100\n",
      "None\n"
     ]
    }
   ],
   "source": [
    "def square(x):\n",
    "    print(x*x)\n",
    "    \n",
    "print(square(10))"
   ]
  },
  {
   "cell_type": "code",
   "execution_count": 19,
   "id": "88ad92da",
   "metadata": {},
   "outputs": [
    {
     "name": "stdout",
     "output_type": "stream",
     "text": [
      "25\n",
      "10 None\n"
     ]
    }
   ],
   "source": [
    "def square(x):\n",
    "    print(x*x)\n",
    "    \n",
    "def addno(x,func):\n",
    "    print(x,func)\n",
    "    \n",
    "addno(10,square(5))"
   ]
  },
  {
   "cell_type": "code",
   "execution_count": 21,
   "id": "53065851",
   "metadata": {},
   "outputs": [
    {
     "name": "stdout",
     "output_type": "stream",
     "text": [
      "10 25\n"
     ]
    }
   ],
   "source": [
    "def square(x):\n",
    "    return x*x\n",
    "    \n",
    "def addno(x,func):\n",
    "    print(x,func)\n",
    "    \n",
    "addno(10,square(5))"
   ]
  },
  {
   "cell_type": "code",
   "execution_count": 23,
   "id": "c2daa148",
   "metadata": {},
   "outputs": [
    {
     "name": "stdout",
     "output_type": "stream",
     "text": [
      "10 <function square at 0x0000013310617D80>\n"
     ]
    }
   ],
   "source": [
    "def square(x):\n",
    "    return x*x\n",
    "    \n",
    "def addno(x,func):\n",
    "    print(x,func)\n",
    "    \n",
    "addno(10,square)"
   ]
  },
  {
   "cell_type": "code",
   "execution_count": 24,
   "id": "69bc019c",
   "metadata": {},
   "outputs": [
    {
     "name": "stdout",
     "output_type": "stream",
     "text": [
      "10 9\n"
     ]
    }
   ],
   "source": [
    "def square(x):\n",
    "    return x*x\n",
    "    \n",
    "def addno(x,func):\n",
    "    print(x,func(3))\n",
    "    \n",
    "addno(10,square)"
   ]
  },
  {
   "cell_type": "code",
   "execution_count": null,
   "id": "d6d68ead",
   "metadata": {},
   "outputs": [],
   "source": []
  }
 ],
 "metadata": {
  "kernelspec": {
   "display_name": "Python 3 (ipykernel)",
   "language": "python",
   "name": "python3"
  },
  "language_info": {
   "codemirror_mode": {
    "name": "ipython",
    "version": 3
   },
   "file_extension": ".py",
   "mimetype": "text/x-python",
   "name": "python",
   "nbconvert_exporter": "python",
   "pygments_lexer": "ipython3",
   "version": "3.11.4"
  }
 },
 "nbformat": 4,
 "nbformat_minor": 5
}
